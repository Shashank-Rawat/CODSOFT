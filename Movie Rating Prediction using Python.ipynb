{
 "cells": [
  {
   "cell_type": "markdown",
   "id": "7fbb487b",
   "metadata": {},
   "source": [
    "<h1 style=\"text-align: center;\">IMDB MOVIE RATING PREDICTION </h1>"
   ]
  },
  {
   "cell_type": "markdown",
   "id": "18b02943",
   "metadata": {},
   "source": [
    "## Table of Contents\n",
    "   Introduction<br>\n",
    "1. Objective<br>\n",
    "2. Data Preprocessing and Analysis<br>\n",
    "    2.1. Data Loading<br>\n",
    "    2.2 Data Cleaning and Preprocessing<br>\n",
    "    2.3 Exploratory Data Analysis<br>\n",
    "3. Building Models<br>\n",
    "    3.1 Train-Test Split<br>\n",
    "    3.2 Models <br>\n",
    "    3.2.1 Linear Regression<br>\n",
    "    3.2.2 Decision Tree <br>\n",
    "    3.2.3 Random Forest <br>\n",
    "    3.2.4 Gradient Boost <br>\n",
    "4. Model Evaluation<br>\n",
    "5. Conclusion\n"
   ]
  },
  {
   "cell_type": "markdown",
   "id": "9bee5b12",
   "metadata": {},
   "source": [
    "##  INTRODUCTION "
   ]
  },
  {
   "cell_type": "markdown",
   "id": "e3b3ea04",
   "metadata": {},
   "source": [
    "**The goal of this project is to create a machine learning model that predicts movie ratings based on features such as genre, director, and actors. By applying regression techniques, the model aims to provide accurate estimations of how a movie is rated by users or critics.**\n",
    "\n",
    "**Movie ratings offer valuable insights into audience and critic perceptions, influencing production and marketing strategies. This project utilizes historical Indian movie IMDb data  to explore these relationships, enabling a deeper understanding of what factors drive movie ratings and how they can be predicted with greater accuracy.**"
   ]
  },
  {
   "cell_type": "markdown",
   "id": "9df34359",
   "metadata": {},
   "source": [
    "## 1. Objective :"
   ]
  },
  {
   "cell_type": "markdown",
   "id": "9f6b7665",
   "metadata": {},
   "source": [
    "1. Develop a Predictive Model: Build a machine learning model to accurately predict movie ratings using features such as genre, director, and actors, applying regression techniques for this purpose.\n",
    "\n",
    "2. Analyze Influencing Factors: Examine and interpret the impact of different features on movie ratings to understand which factors significantly influence how movies are rate"
   ]
  },
  {
   "cell_type": "code",
   "execution_count": 1,
   "id": "354b6758",
   "metadata": {},
   "outputs": [],
   "source": [
    "# importing required libraries\n",
    "import pandas as pd\n",
    "import numpy as np\n",
    "import os\n",
    "import matplotlib.pyplot as plt\n",
    "import seaborn as sns\n",
    "sns.set()\n",
    "import warnings \n",
    "warnings.filterwarnings(\"ignore\")"
   ]
  },
  {
   "cell_type": "code",
   "execution_count": 2,
   "id": "382526af",
   "metadata": {},
   "outputs": [],
   "source": [
    "pd.set_option('display.max_columns',None)\n",
    "pd.set_option('display.max_rows',None)"
   ]
  },
  {
   "cell_type": "code",
   "execution_count": 3,
   "id": "740bcff0",
   "metadata": {},
   "outputs": [
    {
     "data": {
      "text/plain": [
       "'C:\\\\Users\\\\Shashank Rawat\\\\Desktop\\\\python\\\\codesoft\\\\Movie Rating Pridiction'"
      ]
     },
     "execution_count": 3,
     "metadata": {},
     "output_type": "execute_result"
    }
   ],
   "source": [
    "os.getcwd()"
   ]
  },
  {
   "cell_type": "markdown",
   "id": "ddd80202",
   "metadata": {},
   "source": [
    "## 2. Data Preprocessing and Analysis :"
   ]
  },
  {
   "cell_type": "markdown",
   "id": "ee24cf78",
   "metadata": {},
   "source": [
    "### 2.1 Data Loading :"
   ]
  },
  {
   "cell_type": "code",
   "execution_count": 4,
   "id": "46f0adc8",
   "metadata": {},
   "outputs": [],
   "source": [
    "# Changing Directory.\n",
    "os.chdir(\"D:\\Internship\\CodeSoft\")"
   ]
  },
  {
   "cell_type": "code",
   "execution_count": 5,
   "id": "161bc5d3",
   "metadata": {},
   "outputs": [],
   "source": [
    "# Loading Dataset.\n",
    "df = pd.read_csv(\"IMDb Movies India.csv\", encoding='ISO-8859-1')\n"
   ]
  },
  {
   "cell_type": "code",
   "execution_count": 6,
   "id": "be02f585",
   "metadata": {},
   "outputs": [
    {
     "data": {
      "text/html": [
       "<div>\n",
       "<style scoped>\n",
       "    .dataframe tbody tr th:only-of-type {\n",
       "        vertical-align: middle;\n",
       "    }\n",
       "\n",
       "    .dataframe tbody tr th {\n",
       "        vertical-align: top;\n",
       "    }\n",
       "\n",
       "    .dataframe thead th {\n",
       "        text-align: right;\n",
       "    }\n",
       "</style>\n",
       "<table border=\"1\" class=\"dataframe\">\n",
       "  <thead>\n",
       "    <tr style=\"text-align: right;\">\n",
       "      <th></th>\n",
       "      <th>Name</th>\n",
       "      <th>Year</th>\n",
       "      <th>Duration</th>\n",
       "      <th>Genre</th>\n",
       "      <th>Rating</th>\n",
       "      <th>Votes</th>\n",
       "      <th>Director</th>\n",
       "      <th>Actor 1</th>\n",
       "      <th>Actor 2</th>\n",
       "      <th>Actor 3</th>\n",
       "    </tr>\n",
       "  </thead>\n",
       "  <tbody>\n",
       "    <tr>\n",
       "      <th>0</th>\n",
       "      <td></td>\n",
       "      <td>NaN</td>\n",
       "      <td>NaN</td>\n",
       "      <td>Drama</td>\n",
       "      <td>NaN</td>\n",
       "      <td>NaN</td>\n",
       "      <td>J.S. Randhawa</td>\n",
       "      <td>Manmauji</td>\n",
       "      <td>Birbal</td>\n",
       "      <td>Rajendra Bhatia</td>\n",
       "    </tr>\n",
       "    <tr>\n",
       "      <th>1</th>\n",
       "      <td>#Gadhvi (He thought he was Gandhi)</td>\n",
       "      <td>(2019)</td>\n",
       "      <td>109 min</td>\n",
       "      <td>Drama</td>\n",
       "      <td>7.0</td>\n",
       "      <td>8</td>\n",
       "      <td>Gaurav Bakshi</td>\n",
       "      <td>Rasika Dugal</td>\n",
       "      <td>Vivek Ghamande</td>\n",
       "      <td>Arvind Jangid</td>\n",
       "    </tr>\n",
       "    <tr>\n",
       "      <th>2</th>\n",
       "      <td>#Homecoming</td>\n",
       "      <td>(2021)</td>\n",
       "      <td>90 min</td>\n",
       "      <td>Drama, Musical</td>\n",
       "      <td>NaN</td>\n",
       "      <td>NaN</td>\n",
       "      <td>Soumyajit Majumdar</td>\n",
       "      <td>Sayani Gupta</td>\n",
       "      <td>Plabita Borthakur</td>\n",
       "      <td>Roy Angana</td>\n",
       "    </tr>\n",
       "    <tr>\n",
       "      <th>3</th>\n",
       "      <td>#Yaaram</td>\n",
       "      <td>(2019)</td>\n",
       "      <td>110 min</td>\n",
       "      <td>Comedy, Romance</td>\n",
       "      <td>4.4</td>\n",
       "      <td>35</td>\n",
       "      <td>Ovais Khan</td>\n",
       "      <td>Prateik</td>\n",
       "      <td>Ishita Raj</td>\n",
       "      <td>Siddhant Kapoor</td>\n",
       "    </tr>\n",
       "    <tr>\n",
       "      <th>4</th>\n",
       "      <td>...And Once Again</td>\n",
       "      <td>(2010)</td>\n",
       "      <td>105 min</td>\n",
       "      <td>Drama</td>\n",
       "      <td>NaN</td>\n",
       "      <td>NaN</td>\n",
       "      <td>Amol Palekar</td>\n",
       "      <td>Rajat Kapoor</td>\n",
       "      <td>Rituparna Sengupta</td>\n",
       "      <td>Antara Mali</td>\n",
       "    </tr>\n",
       "  </tbody>\n",
       "</table>\n",
       "</div>"
      ],
      "text/plain": [
       "                                 Name    Year Duration            Genre  \\\n",
       "0                                         NaN      NaN            Drama   \n",
       "1  #Gadhvi (He thought he was Gandhi)  (2019)  109 min            Drama   \n",
       "2                         #Homecoming  (2021)   90 min   Drama, Musical   \n",
       "3                             #Yaaram  (2019)  110 min  Comedy, Romance   \n",
       "4                   ...And Once Again  (2010)  105 min            Drama   \n",
       "\n",
       "   Rating Votes            Director       Actor 1             Actor 2  \\\n",
       "0     NaN   NaN       J.S. Randhawa      Manmauji              Birbal   \n",
       "1     7.0     8       Gaurav Bakshi  Rasika Dugal      Vivek Ghamande   \n",
       "2     NaN   NaN  Soumyajit Majumdar  Sayani Gupta   Plabita Borthakur   \n",
       "3     4.4    35          Ovais Khan       Prateik          Ishita Raj   \n",
       "4     NaN   NaN        Amol Palekar  Rajat Kapoor  Rituparna Sengupta   \n",
       "\n",
       "           Actor 3  \n",
       "0  Rajendra Bhatia  \n",
       "1    Arvind Jangid  \n",
       "2       Roy Angana  \n",
       "3  Siddhant Kapoor  \n",
       "4      Antara Mali  "
      ]
     },
     "execution_count": 6,
     "metadata": {},
     "output_type": "execute_result"
    }
   ],
   "source": [
    "# displaying first 5 coloumn of dataset\n",
    "df.head()"
   ]
  },
  {
   "cell_type": "code",
   "execution_count": 7,
   "id": "b46a6d2a",
   "metadata": {},
   "outputs": [],
   "source": [
    "# Making a copy of the dataset\n",
    "df1=df.copy()"
   ]
  },
  {
   "cell_type": "code",
   "execution_count": 8,
   "id": "a267fa67",
   "metadata": {},
   "outputs": [
    {
     "data": {
      "text/plain": [
       "(15509, 10)"
      ]
     },
     "execution_count": 8,
     "metadata": {},
     "output_type": "execute_result"
    }
   ],
   "source": [
    "# shape of dataset.\n",
    "df1.shape"
   ]
  },
  {
   "cell_type": "code",
   "execution_count": 9,
   "id": "62f3cff1",
   "metadata": {},
   "outputs": [
    {
     "data": {
      "text/plain": [
       "Index(['Name', 'Year', 'Duration', 'Genre', 'Rating', 'Votes', 'Director',\n",
       "       'Actor 1', 'Actor 2', 'Actor 3'],\n",
       "      dtype='object')"
      ]
     },
     "execution_count": 9,
     "metadata": {},
     "output_type": "execute_result"
    }
   ],
   "source": [
    "# Coloumns name in the dataset.\n",
    "df1.columns"
   ]
  },
  {
   "cell_type": "code",
   "execution_count": 10,
   "id": "9215a45f",
   "metadata": {},
   "outputs": [
    {
     "data": {
      "text/plain": [
       "Name         object\n",
       "Year         object\n",
       "Duration     object\n",
       "Genre        object\n",
       "Rating      float64\n",
       "Votes        object\n",
       "Director     object\n",
       "Actor 1      object\n",
       "Actor 2      object\n",
       "Actor 3      object\n",
       "dtype: object"
      ]
     },
     "execution_count": 10,
     "metadata": {},
     "output_type": "execute_result"
    }
   ],
   "source": [
    "df1.dtypes"
   ]
  },
  {
   "cell_type": "code",
   "execution_count": 11,
   "id": "24f8ea1f",
   "metadata": {},
   "outputs": [
    {
     "name": "stdout",
     "output_type": "stream",
     "text": [
      "<class 'pandas.core.frame.DataFrame'>\n",
      "RangeIndex: 15509 entries, 0 to 15508\n",
      "Data columns (total 10 columns):\n",
      " #   Column    Non-Null Count  Dtype  \n",
      "---  ------    --------------  -----  \n",
      " 0   Name      15509 non-null  object \n",
      " 1   Year      14981 non-null  object \n",
      " 2   Duration  7240 non-null   object \n",
      " 3   Genre     13632 non-null  object \n",
      " 4   Rating    7919 non-null   float64\n",
      " 5   Votes     7920 non-null   object \n",
      " 6   Director  14984 non-null  object \n",
      " 7   Actor 1   13892 non-null  object \n",
      " 8   Actor 2   13125 non-null  object \n",
      " 9   Actor 3   12365 non-null  object \n",
      "dtypes: float64(1), object(9)\n",
      "memory usage: 1.2+ MB\n"
     ]
    }
   ],
   "source": [
    "df1.info()"
   ]
  },
  {
   "cell_type": "code",
   "execution_count": 12,
   "id": "77ec3cd0",
   "metadata": {},
   "outputs": [
    {
     "data": {
      "text/plain": [
       "Name           0\n",
       "Year         528\n",
       "Duration    8269\n",
       "Genre       1877\n",
       "Rating      7590\n",
       "Votes       7589\n",
       "Director     525\n",
       "Actor 1     1617\n",
       "Actor 2     2384\n",
       "Actor 3     3144\n",
       "dtype: int64"
      ]
     },
     "execution_count": 12,
     "metadata": {},
     "output_type": "execute_result"
    }
   ],
   "source": [
    "df1.isna().sum()"
   ]
  },
  {
   "cell_type": "markdown",
   "id": "c884e692",
   "metadata": {},
   "source": [
    "### 2.2 Data Cleaning and Preprocessing :"
   ]
  },
  {
   "cell_type": "markdown",
   "id": "31f58ab0",
   "metadata": {},
   "source": [
    "#### 2.2.1 Droping Duplicates :"
   ]
  },
  {
   "cell_type": "code",
   "execution_count": 13,
   "id": "9eafb08d",
   "metadata": {},
   "outputs": [
    {
     "data": {
      "text/plain": [
       "6"
      ]
     },
     "execution_count": 13,
     "metadata": {},
     "output_type": "execute_result"
    }
   ],
   "source": [
    "df1.duplicated().sum()"
   ]
  },
  {
   "cell_type": "code",
   "execution_count": 14,
   "id": "cc6d73ea",
   "metadata": {},
   "outputs": [
    {
     "data": {
      "text/plain": [
       "(15503, 10)"
      ]
     },
     "execution_count": 14,
     "metadata": {},
     "output_type": "execute_result"
    }
   ],
   "source": [
    "# Removing Duplicates\n",
    "df1.drop_duplicates(inplace=True)\n",
    "df1.shape"
   ]
  },
  {
   "cell_type": "markdown",
   "id": "28f6a700",
   "metadata": {},
   "source": [
    "#### 2.2.2 Column Handling : "
   ]
  },
  {
   "cell_type": "markdown",
   "id": "24c78c10",
   "metadata": {},
   "source": [
    "####  Droping Unessasary Coloumns :"
   ]
  },
  {
   "cell_type": "code",
   "execution_count": 15,
   "id": "2ca41f75",
   "metadata": {},
   "outputs": [
    {
     "data": {
      "text/html": [
       "<div>\n",
       "<style scoped>\n",
       "    .dataframe tbody tr th:only-of-type {\n",
       "        vertical-align: middle;\n",
       "    }\n",
       "\n",
       "    .dataframe tbody tr th {\n",
       "        vertical-align: top;\n",
       "    }\n",
       "\n",
       "    .dataframe thead th {\n",
       "        text-align: right;\n",
       "    }\n",
       "</style>\n",
       "<table border=\"1\" class=\"dataframe\">\n",
       "  <thead>\n",
       "    <tr style=\"text-align: right;\">\n",
       "      <th></th>\n",
       "      <th>Year</th>\n",
       "      <th>Duration</th>\n",
       "      <th>Genre</th>\n",
       "      <th>Rating</th>\n",
       "      <th>Votes</th>\n",
       "      <th>Director</th>\n",
       "      <th>Actor 1</th>\n",
       "    </tr>\n",
       "  </thead>\n",
       "  <tbody>\n",
       "    <tr>\n",
       "      <th>0</th>\n",
       "      <td>NaN</td>\n",
       "      <td>NaN</td>\n",
       "      <td>Drama</td>\n",
       "      <td>NaN</td>\n",
       "      <td>NaN</td>\n",
       "      <td>J.S. Randhawa</td>\n",
       "      <td>Manmauji</td>\n",
       "    </tr>\n",
       "    <tr>\n",
       "      <th>1</th>\n",
       "      <td>(2019)</td>\n",
       "      <td>109 min</td>\n",
       "      <td>Drama</td>\n",
       "      <td>7.0</td>\n",
       "      <td>8</td>\n",
       "      <td>Gaurav Bakshi</td>\n",
       "      <td>Rasika Dugal</td>\n",
       "    </tr>\n",
       "    <tr>\n",
       "      <th>2</th>\n",
       "      <td>(2021)</td>\n",
       "      <td>90 min</td>\n",
       "      <td>Drama, Musical</td>\n",
       "      <td>NaN</td>\n",
       "      <td>NaN</td>\n",
       "      <td>Soumyajit Majumdar</td>\n",
       "      <td>Sayani Gupta</td>\n",
       "    </tr>\n",
       "    <tr>\n",
       "      <th>3</th>\n",
       "      <td>(2019)</td>\n",
       "      <td>110 min</td>\n",
       "      <td>Comedy, Romance</td>\n",
       "      <td>4.4</td>\n",
       "      <td>35</td>\n",
       "      <td>Ovais Khan</td>\n",
       "      <td>Prateik</td>\n",
       "    </tr>\n",
       "    <tr>\n",
       "      <th>4</th>\n",
       "      <td>(2010)</td>\n",
       "      <td>105 min</td>\n",
       "      <td>Drama</td>\n",
       "      <td>NaN</td>\n",
       "      <td>NaN</td>\n",
       "      <td>Amol Palekar</td>\n",
       "      <td>Rajat Kapoor</td>\n",
       "    </tr>\n",
       "  </tbody>\n",
       "</table>\n",
       "</div>"
      ],
      "text/plain": [
       "     Year Duration            Genre  Rating Votes            Director  \\\n",
       "0     NaN      NaN            Drama     NaN   NaN       J.S. Randhawa   \n",
       "1  (2019)  109 min            Drama     7.0     8       Gaurav Bakshi   \n",
       "2  (2021)   90 min   Drama, Musical     NaN   NaN  Soumyajit Majumdar   \n",
       "3  (2019)  110 min  Comedy, Romance     4.4    35          Ovais Khan   \n",
       "4  (2010)  105 min            Drama     NaN   NaN        Amol Palekar   \n",
       "\n",
       "        Actor 1  \n",
       "0      Manmauji  \n",
       "1  Rasika Dugal  \n",
       "2  Sayani Gupta  \n",
       "3       Prateik  \n",
       "4  Rajat Kapoor  "
      ]
     },
     "execution_count": 15,
     "metadata": {},
     "output_type": "execute_result"
    }
   ],
   "source": [
    "# Dropping column 'Name'\n",
    "# 'Actor2 and Actor 3' as these coloumns has more than 10 % missing values and imputing them doesnt make sense.\n",
    "df1=df1.drop(columns=['Name','Actor 2','Actor 3'])\n",
    "df1.head()"
   ]
  },
  {
   "cell_type": "code",
   "execution_count": 16,
   "id": "48d1fac3",
   "metadata": {},
   "outputs": [
    {
     "data": {
      "text/plain": [
       "array([nan, '(2019)', '(2021)', '(2010)', '(1997)', '(2005)', '(2008)',\n",
       "       '(2012)', '(2014)', '(2004)', '(2016)', '(1991)', '(1990)',\n",
       "       '(2018)', '(1987)', '(1948)', '(1958)', '(2017)', '(2020)',\n",
       "       '(2009)', '(2002)', '(1993)', '(1946)', '(1994)', '(2007)',\n",
       "       '(2013)', '(2003)', '(1998)', '(1979)', '(1951)', '(1956)',\n",
       "       '(1974)', '(2015)', '(2006)', '(1981)', '(1985)', '(2011)',\n",
       "       '(2001)', '(1967)', '(1988)', '(1995)', '(1959)', '(1996)',\n",
       "       '(1970)', '(1976)', '(2000)', '(1999)', '(1973)', '(1968)',\n",
       "       '(1943)', '(1953)', '(1986)', '(1983)', '(1989)', '(1982)',\n",
       "       '(1977)', '(1957)', '(1950)', '(1992)', '(1969)', '(1975)',\n",
       "       '(1947)', '(1972)', '(1971)', '(1935)', '(1978)', '(1960)',\n",
       "       '(1944)', '(1963)', '(1940)', '(1984)', '(1934)', '(1955)',\n",
       "       '(1936)', '(1980)', '(1966)', '(1949)', '(1962)', '(1964)',\n",
       "       '(1952)', '(1933)', '(1942)', '(1939)', '(1954)', '(1945)',\n",
       "       '(1961)', '(1965)', '(1938)', '(1941)', '(1931)', '(1937)',\n",
       "       '(2022)', '(1932)', '(1923)', '(1915)', '(1928)', '(1922)',\n",
       "       '(1917)', '(1913)', '(1930)', '(1926)', '(1914)', '(1924)'],\n",
       "      dtype=object)"
      ]
     },
     "execution_count": 16,
     "metadata": {},
     "output_type": "execute_result"
    }
   ],
   "source": [
    "# Unique values in Year Coloumn.\n",
    "df1['Year'].unique()"
   ]
  },
  {
   "cell_type": "code",
   "execution_count": 17,
   "id": "c8d63027",
   "metadata": {},
   "outputs": [
    {
     "data": {
      "text/plain": [
       "array([  nan, 2019., 2021., 2010., 1997., 2005., 2008., 2012., 2014.,\n",
       "       2004., 2016., 1991., 1990., 2018., 1987., 1948., 1958., 2017.,\n",
       "       2020., 2009., 2002., 1993., 1946., 1994., 2007., 2013., 2003.,\n",
       "       1998., 1979., 1951., 1956., 1974., 2015., 2006., 1981., 1985.,\n",
       "       2011., 2001., 1967., 1988., 1995., 1959., 1996., 1970., 1976.,\n",
       "       2000., 1999., 1973., 1968., 1943., 1953., 1986., 1983., 1989.,\n",
       "       1982., 1977., 1957., 1950., 1992., 1969., 1975., 1947., 1972.,\n",
       "       1971., 1935., 1978., 1960., 1944., 1963., 1940., 1984., 1934.,\n",
       "       1955., 1936., 1980., 1966., 1949., 1962., 1964., 1952., 1933.,\n",
       "       1942., 1939., 1954., 1945., 1961., 1965., 1938., 1941., 1931.,\n",
       "       1937., 2022., 1932., 1923., 1915., 1928., 1922., 1917., 1913.,\n",
       "       1930., 1926., 1914., 1924.])"
      ]
     },
     "execution_count": 17,
     "metadata": {},
     "output_type": "execute_result"
    }
   ],
   "source": [
    "# correcting the format of year coloumn\n",
    "df1['Year'] = df1['Year'].str.replace(r'[\\(\\)]', '', regex=True)\n",
    "df1[\"Year\"] = pd.to_numeric(df1.loc[:,\"Year\"])\n",
    "df1['Year'].unique()"
   ]
  },
  {
   "cell_type": "code",
   "execution_count": 18,
   "id": "cbf05757",
   "metadata": {},
   "outputs": [
    {
     "data": {
      "text/plain": [
       "array([nan, '109 min', '90 min', '110 min', '105 min', '147 min',\n",
       "       '142 min', '59 min', '82 min', '116 min', '96 min', '120 min',\n",
       "       '161 min', '166 min', '102 min', '87 min', '132 min', '66 min',\n",
       "       '146 min', '112 min', '168 min', '158 min', '126 min', '94 min',\n",
       "       '138 min', '124 min', '144 min', '157 min', '136 min', '107 min',\n",
       "       '113 min', '80 min', '122 min', '149 min', '148 min', '130 min',\n",
       "       '121 min', '188 min', '115 min', '103 min', '114 min', '170 min',\n",
       "       '100 min', '99 min', '140 min', '128 min', '93 min', '125 min',\n",
       "       '145 min', '75 min', '111 min', '134 min', '85 min', '104 min',\n",
       "       '92 min', '137 min', '127 min', '150 min', '119 min', '135 min',\n",
       "       '86 min', '76 min', '70 min', '72 min', '151 min', '95 min',\n",
       "       '52 min', '89 min', '143 min', '177 min', '117 min', '123 min',\n",
       "       '154 min', '88 min', '175 min', '153 min', '78 min', '139 min',\n",
       "       '133 min', '101 min', '180 min', '60 min', '46 min', '164 min',\n",
       "       '162 min', '171 min', '160 min', '152 min', '62 min', '163 min',\n",
       "       '165 min', '141 min', '210 min', '129 min', '156 min', '240 min',\n",
       "       '172 min', '155 min', '118 min', '167 min', '106 min', '193 min',\n",
       "       '57 min', '108 min', '45 min', '195 min', '174 min', '81 min',\n",
       "       '178 min', '58 min', '184 min', '97 min', '98 min', '131 min',\n",
       "       '176 min', '169 min', '77 min', '91 min', '84 min', '173 min',\n",
       "       '74 min', '67 min', '181 min', '300 min', '79 min', '65 min',\n",
       "       '48 min', '183 min', '159 min', '83 min', '68 min', '49 min',\n",
       "       '201 min', '64 min', '186 min', '50 min', '69 min', '207 min',\n",
       "       '55 min', '61 min', '185 min', '187 min', '216 min', '63 min',\n",
       "       '54 min', '198 min', '51 min', '71 min', '73 min', '218 min',\n",
       "       '191 min', '321 min', '199 min', '53 min', '56 min', '179 min',\n",
       "       '47 min', '206 min', '190 min', '211 min', '247 min', '213 min',\n",
       "       '223 min', '2 min', '189 min', '224 min', '202 min', '255 min',\n",
       "       '197 min', '182 min', '214 min', '208 min', '21 min', '200 min',\n",
       "       '192 min', '37 min', '261 min', '238 min', '204 min', '235 min',\n",
       "       '298 min', '217 min', '250 min'], dtype=object)"
      ]
     },
     "execution_count": 18,
     "metadata": {},
     "output_type": "execute_result"
    }
   ],
   "source": [
    "# Unique values in Duration Coloumn.\n",
    "df1['Duration'].unique()"
   ]
  },
  {
   "cell_type": "code",
   "execution_count": 19,
   "id": "ccb13991",
   "metadata": {},
   "outputs": [
    {
     "data": {
      "text/plain": [
       "array([ nan, 109.,  90., 110., 105., 147., 142.,  59.,  82., 116.,  96.,\n",
       "       120., 161., 166., 102.,  87., 132.,  66., 146., 112., 168., 158.,\n",
       "       126.,  94., 138., 124., 144., 157., 136., 107., 113.,  80., 122.,\n",
       "       149., 148., 130., 121., 188., 115., 103., 114., 170., 100.,  99.,\n",
       "       140., 128.,  93., 125., 145.,  75., 111., 134.,  85., 104.,  92.,\n",
       "       137., 127., 150., 119., 135.,  86.,  76.,  70.,  72., 151.,  95.,\n",
       "        52.,  89., 143., 177., 117., 123., 154.,  88., 175., 153.,  78.,\n",
       "       139., 133., 101., 180.,  60.,  46., 164., 162., 171., 160., 152.,\n",
       "        62., 163., 165., 141., 210., 129., 156., 240., 172., 155., 118.,\n",
       "       167., 106., 193.,  57., 108.,  45., 195., 174.,  81., 178.,  58.,\n",
       "       184.,  97.,  98., 131., 176., 169.,  77.,  91.,  84., 173.,  74.,\n",
       "        67., 181., 300.,  79.,  65.,  48., 183., 159.,  83.,  68.,  49.,\n",
       "       201.,  64., 186.,  50.,  69., 207.,  55.,  61., 185., 187., 216.,\n",
       "        63.,  54., 198.,  51.,  71.,  73., 218., 191., 321., 199.,  53.,\n",
       "        56., 179.,  47., 206., 190., 211., 247., 213., 223.,   2., 189.,\n",
       "       224., 202., 255., 197., 182., 214., 208.,  21., 200., 192.,  37.,\n",
       "       261., 238., 204., 235., 298., 217., 250.])"
      ]
     },
     "execution_count": 19,
     "metadata": {},
     "output_type": "execute_result"
    }
   ],
   "source": [
    "# correcting Duration format.\n",
    "df1['Duration'] = df1['Duration'].str.replace(' min', '')\n",
    "df1[\"Duration\"] = pd.to_numeric(df1.loc[:,\"Duration\"])\n",
    "df1['Duration'].unique()"
   ]
  },
  {
   "cell_type": "code",
   "execution_count": 20,
   "id": "7a96b466",
   "metadata": {},
   "outputs": [
    {
     "data": {
      "text/plain": [
       "array([nan, '8', '35', ..., '70,344', '408', '1,496'], dtype=object)"
      ]
     },
     "execution_count": 20,
     "metadata": {},
     "output_type": "execute_result"
    }
   ],
   "source": [
    "df1['Votes'].unique()"
   ]
  },
  {
   "cell_type": "code",
   "execution_count": 21,
   "id": "1ca1d646",
   "metadata": {},
   "outputs": [
    {
     "name": "stdout",
     "output_type": "stream",
     "text": [
      "        Year  Duration   Genre  Rating   Votes         Director     Actor 1\n",
      "9500  2006.0       NaN  Comedy     NaN  $5.16M  Raman Bharadwaj  Kim Sharma\n"
     ]
    }
   ],
   "source": [
    "# Handling votes variable\n",
    "print(df1[df1['Votes'] == '$5.16M'])\n",
    "# Droping the row with vote value '$5.16M'\n",
    "df1 = df1[df1['Votes'] != '$5.16M']"
   ]
  },
  {
   "cell_type": "code",
   "execution_count": 22,
   "id": "a84289ff",
   "metadata": {},
   "outputs": [],
   "source": [
    "# Correcting Votes Format.\n",
    "df1[\"Votes\"] = df1.loc[:,\"Votes\"].str.replace(\",\",\"\")\n",
    "df1[\"Votes\"] = pd.to_numeric(df1.loc[:,\"Votes\"])"
   ]
  },
  {
   "cell_type": "markdown",
   "id": "4366dff8",
   "metadata": {},
   "source": [
    "#### Cleaning Genre columns and adding new genre column for further analysis:"
   ]
  },
  {
   "cell_type": "code",
   "execution_count": 23,
   "id": "682a7114",
   "metadata": {},
   "outputs": [],
   "source": [
    "df1[\"Genre\"] = df1.loc[:,\"Genre\"].str.replace(\"Musical\",\"Music\")\n",
    "df1[\"Main_genre\"] = df1.loc[:,\"Genre\"].str.extract(\"(^\\w{1,11})\")"
   ]
  },
  {
   "cell_type": "code",
   "execution_count": 24,
   "id": "7e83c354",
   "metadata": {},
   "outputs": [
    {
     "data": {
      "text/plain": [
       "array(['Drama', 'Comedy', 'Documentary', 'Horror', 'Action', 'Thriller',\n",
       "       nan, 'Crime', 'Biography', 'Adventure', 'War', 'Sport', 'Mystery',\n",
       "       'Music', 'Romance', 'Family', 'Fantasy', 'Sci', 'Animation',\n",
       "       'History', 'Reality'], dtype=object)"
      ]
     },
     "execution_count": 24,
     "metadata": {},
     "output_type": "execute_result"
    }
   ],
   "source": [
    "df1['Main_genre'].unique()"
   ]
  },
  {
   "cell_type": "code",
   "execution_count": 25,
   "id": "8c9aae66",
   "metadata": {},
   "outputs": [],
   "source": [
    "# dropping Genre coloumn and renaming Main_genre as 'Genre'.\n",
    "df1.drop(columns='Genre',inplace=True)\n",
    "df1.rename(columns={'Main_genre':'Genre'},inplace=True)"
   ]
  },
  {
   "cell_type": "code",
   "execution_count": 26,
   "id": "e8b30d3d",
   "metadata": {},
   "outputs": [
    {
     "data": {
      "text/html": [
       "<div>\n",
       "<style scoped>\n",
       "    .dataframe tbody tr th:only-of-type {\n",
       "        vertical-align: middle;\n",
       "    }\n",
       "\n",
       "    .dataframe tbody tr th {\n",
       "        vertical-align: top;\n",
       "    }\n",
       "\n",
       "    .dataframe thead th {\n",
       "        text-align: right;\n",
       "    }\n",
       "</style>\n",
       "<table border=\"1\" class=\"dataframe\">\n",
       "  <thead>\n",
       "    <tr style=\"text-align: right;\">\n",
       "      <th></th>\n",
       "      <th>Year</th>\n",
       "      <th>Duration</th>\n",
       "      <th>Rating</th>\n",
       "      <th>Votes</th>\n",
       "      <th>Director</th>\n",
       "      <th>Actor 1</th>\n",
       "      <th>Genre</th>\n",
       "    </tr>\n",
       "  </thead>\n",
       "  <tbody>\n",
       "    <tr>\n",
       "      <th>0</th>\n",
       "      <td>NaN</td>\n",
       "      <td>NaN</td>\n",
       "      <td>NaN</td>\n",
       "      <td>NaN</td>\n",
       "      <td>J.S. Randhawa</td>\n",
       "      <td>Manmauji</td>\n",
       "      <td>Drama</td>\n",
       "    </tr>\n",
       "    <tr>\n",
       "      <th>1</th>\n",
       "      <td>2019.0</td>\n",
       "      <td>109.0</td>\n",
       "      <td>7.0</td>\n",
       "      <td>8.0</td>\n",
       "      <td>Gaurav Bakshi</td>\n",
       "      <td>Rasika Dugal</td>\n",
       "      <td>Drama</td>\n",
       "    </tr>\n",
       "    <tr>\n",
       "      <th>2</th>\n",
       "      <td>2021.0</td>\n",
       "      <td>90.0</td>\n",
       "      <td>NaN</td>\n",
       "      <td>NaN</td>\n",
       "      <td>Soumyajit Majumdar</td>\n",
       "      <td>Sayani Gupta</td>\n",
       "      <td>Drama</td>\n",
       "    </tr>\n",
       "    <tr>\n",
       "      <th>3</th>\n",
       "      <td>2019.0</td>\n",
       "      <td>110.0</td>\n",
       "      <td>4.4</td>\n",
       "      <td>35.0</td>\n",
       "      <td>Ovais Khan</td>\n",
       "      <td>Prateik</td>\n",
       "      <td>Comedy</td>\n",
       "    </tr>\n",
       "    <tr>\n",
       "      <th>4</th>\n",
       "      <td>2010.0</td>\n",
       "      <td>105.0</td>\n",
       "      <td>NaN</td>\n",
       "      <td>NaN</td>\n",
       "      <td>Amol Palekar</td>\n",
       "      <td>Rajat Kapoor</td>\n",
       "      <td>Drama</td>\n",
       "    </tr>\n",
       "  </tbody>\n",
       "</table>\n",
       "</div>"
      ],
      "text/plain": [
       "     Year  Duration  Rating  Votes            Director       Actor 1   Genre\n",
       "0     NaN       NaN     NaN    NaN       J.S. Randhawa      Manmauji   Drama\n",
       "1  2019.0     109.0     7.0    8.0       Gaurav Bakshi  Rasika Dugal   Drama\n",
       "2  2021.0      90.0     NaN    NaN  Soumyajit Majumdar  Sayani Gupta   Drama\n",
       "3  2019.0     110.0     4.4   35.0          Ovais Khan       Prateik  Comedy\n",
       "4  2010.0     105.0     NaN    NaN        Amol Palekar  Rajat Kapoor   Drama"
      ]
     },
     "execution_count": 26,
     "metadata": {},
     "output_type": "execute_result"
    }
   ],
   "source": [
    "df1.head()"
   ]
  },
  {
   "cell_type": "code",
   "execution_count": 27,
   "id": "9fe014c2",
   "metadata": {},
   "outputs": [
    {
     "name": "stdout",
     "output_type": "stream",
     "text": [
      "<class 'pandas.core.frame.DataFrame'>\n",
      "Int64Index: 15502 entries, 0 to 15508\n",
      "Data columns (total 7 columns):\n",
      " #   Column    Non-Null Count  Dtype  \n",
      "---  ------    --------------  -----  \n",
      " 0   Year      14975 non-null  float64\n",
      " 1   Duration  7239 non-null   float64\n",
      " 2   Rating    7919 non-null   float64\n",
      " 3   Votes     7919 non-null   float64\n",
      " 4   Director  14978 non-null  object \n",
      " 5   Actor 1   13887 non-null  object \n",
      " 6   Genre     13626 non-null  object \n",
      "dtypes: float64(4), object(3)\n",
      "memory usage: 968.9+ KB\n"
     ]
    }
   ],
   "source": [
    "df1.info()"
   ]
  },
  {
   "cell_type": "markdown",
   "id": "eb34f873",
   "metadata": {},
   "source": [
    "#### 2.2.3 Missing Value Handling : "
   ]
  },
  {
   "cell_type": "code",
   "execution_count": 28,
   "id": "41641ead",
   "metadata": {},
   "outputs": [
    {
     "name": "stdout",
     "output_type": "stream",
     "text": [
      "Year         3.399561\n",
      "Duration    53.302800\n",
      "Rating      48.916269\n",
      "Votes       48.916269\n",
      "Director     3.380209\n",
      "Actor 1     10.418011\n",
      "Genre       12.101664\n",
      "dtype: float64\n"
     ]
    }
   ],
   "source": [
    "null_percentage = df1.isnull().mean() * 100\n",
    "# Display the percentage of null values\n",
    "print(null_percentage)"
   ]
  },
  {
   "cell_type": "code",
   "execution_count": 29,
   "id": "63e5c1ae",
   "metadata": {},
   "outputs": [],
   "source": [
    "# Dropping null values\n",
    "df1.dropna(inplace=True)"
   ]
  },
  {
   "cell_type": "code",
   "execution_count": 30,
   "id": "f3951f35",
   "metadata": {
    "scrolled": true
   },
   "outputs": [
    {
     "name": "stdout",
     "output_type": "stream",
     "text": [
      "<class 'pandas.core.frame.DataFrame'>\n",
      "Int64Index: 5746 entries, 1 to 15508\n",
      "Data columns (total 7 columns):\n",
      " #   Column    Non-Null Count  Dtype  \n",
      "---  ------    --------------  -----  \n",
      " 0   Year      5746 non-null   float64\n",
      " 1   Duration  5746 non-null   float64\n",
      " 2   Rating    5746 non-null   float64\n",
      " 3   Votes     5746 non-null   float64\n",
      " 4   Director  5746 non-null   object \n",
      " 5   Actor 1   5746 non-null   object \n",
      " 6   Genre     5746 non-null   object \n",
      "dtypes: float64(4), object(3)\n",
      "memory usage: 359.1+ KB\n"
     ]
    }
   ],
   "source": [
    "df1.info()"
   ]
  },
  {
   "cell_type": "code",
   "execution_count": 31,
   "id": "5ea397e2",
   "metadata": {},
   "outputs": [
    {
     "data": {
      "text/plain": [
       "(5746, 7)"
      ]
     },
     "execution_count": 31,
     "metadata": {},
     "output_type": "execute_result"
    }
   ],
   "source": [
    "df1.shape"
   ]
  },
  {
   "cell_type": "code",
   "execution_count": 32,
   "id": "e83c775b",
   "metadata": {},
   "outputs": [
    {
     "data": {
      "text/html": [
       "<div>\n",
       "<style scoped>\n",
       "    .dataframe tbody tr th:only-of-type {\n",
       "        vertical-align: middle;\n",
       "    }\n",
       "\n",
       "    .dataframe tbody tr th {\n",
       "        vertical-align: top;\n",
       "    }\n",
       "\n",
       "    .dataframe thead th {\n",
       "        text-align: right;\n",
       "    }\n",
       "</style>\n",
       "<table border=\"1\" class=\"dataframe\">\n",
       "  <thead>\n",
       "    <tr style=\"text-align: right;\">\n",
       "      <th></th>\n",
       "      <th>Year</th>\n",
       "      <th>Duration</th>\n",
       "      <th>Rating</th>\n",
       "      <th>Votes</th>\n",
       "      <th>Director</th>\n",
       "      <th>Actor 1</th>\n",
       "      <th>Genre</th>\n",
       "    </tr>\n",
       "  </thead>\n",
       "  <tbody>\n",
       "    <tr>\n",
       "      <th>1</th>\n",
       "      <td>2019.0</td>\n",
       "      <td>109.0</td>\n",
       "      <td>7.0</td>\n",
       "      <td>8.0</td>\n",
       "      <td>Gaurav Bakshi</td>\n",
       "      <td>Rasika Dugal</td>\n",
       "      <td>Drama</td>\n",
       "    </tr>\n",
       "    <tr>\n",
       "      <th>3</th>\n",
       "      <td>2019.0</td>\n",
       "      <td>110.0</td>\n",
       "      <td>4.4</td>\n",
       "      <td>35.0</td>\n",
       "      <td>Ovais Khan</td>\n",
       "      <td>Prateik</td>\n",
       "      <td>Comedy</td>\n",
       "    </tr>\n",
       "    <tr>\n",
       "      <th>5</th>\n",
       "      <td>1997.0</td>\n",
       "      <td>147.0</td>\n",
       "      <td>4.7</td>\n",
       "      <td>827.0</td>\n",
       "      <td>Rahul Rawail</td>\n",
       "      <td>Bobby Deol</td>\n",
       "      <td>Comedy</td>\n",
       "    </tr>\n",
       "    <tr>\n",
       "      <th>6</th>\n",
       "      <td>2005.0</td>\n",
       "      <td>142.0</td>\n",
       "      <td>7.4</td>\n",
       "      <td>1086.0</td>\n",
       "      <td>Shoojit Sircar</td>\n",
       "      <td>Jimmy Sheirgill</td>\n",
       "      <td>Drama</td>\n",
       "    </tr>\n",
       "    <tr>\n",
       "      <th>8</th>\n",
       "      <td>2012.0</td>\n",
       "      <td>82.0</td>\n",
       "      <td>5.6</td>\n",
       "      <td>326.0</td>\n",
       "      <td>Allyson Patel</td>\n",
       "      <td>Yash Dave</td>\n",
       "      <td>Horror</td>\n",
       "    </tr>\n",
       "  </tbody>\n",
       "</table>\n",
       "</div>"
      ],
      "text/plain": [
       "     Year  Duration  Rating   Votes        Director          Actor 1   Genre\n",
       "1  2019.0     109.0     7.0     8.0   Gaurav Bakshi     Rasika Dugal   Drama\n",
       "3  2019.0     110.0     4.4    35.0      Ovais Khan          Prateik  Comedy\n",
       "5  1997.0     147.0     4.7   827.0    Rahul Rawail       Bobby Deol  Comedy\n",
       "6  2005.0     142.0     7.4  1086.0  Shoojit Sircar  Jimmy Sheirgill   Drama\n",
       "8  2012.0      82.0     5.6   326.0   Allyson Patel        Yash Dave  Horror"
      ]
     },
     "execution_count": 32,
     "metadata": {},
     "output_type": "execute_result"
    }
   ],
   "source": [
    "df1.head()"
   ]
  },
  {
   "cell_type": "markdown",
   "id": "1a2a2893",
   "metadata": {},
   "source": [
    "### 2.3 Exploratory Data Anaysis : "
   ]
  },
  {
   "cell_type": "code",
   "execution_count": 33,
   "id": "dcf28f6e",
   "metadata": {},
   "outputs": [],
   "source": [
    "# Resetting Index\n",
    "df1.reset_index(inplace=True,drop=True)"
   ]
  },
  {
   "cell_type": "code",
   "execution_count": 34,
   "id": "e1fcab2d",
   "metadata": {
    "scrolled": true
   },
   "outputs": [
    {
     "data": {
      "text/html": [
       "<div>\n",
       "<style scoped>\n",
       "    .dataframe tbody tr th:only-of-type {\n",
       "        vertical-align: middle;\n",
       "    }\n",
       "\n",
       "    .dataframe tbody tr th {\n",
       "        vertical-align: top;\n",
       "    }\n",
       "\n",
       "    .dataframe thead th {\n",
       "        text-align: right;\n",
       "    }\n",
       "</style>\n",
       "<table border=\"1\" class=\"dataframe\">\n",
       "  <thead>\n",
       "    <tr style=\"text-align: right;\">\n",
       "      <th></th>\n",
       "      <th>Year</th>\n",
       "      <th>Duration</th>\n",
       "      <th>Rating</th>\n",
       "      <th>Votes</th>\n",
       "      <th>Director</th>\n",
       "      <th>Actor 1</th>\n",
       "      <th>Genre</th>\n",
       "    </tr>\n",
       "  </thead>\n",
       "  <tbody>\n",
       "    <tr>\n",
       "      <th>0</th>\n",
       "      <td>2019.0</td>\n",
       "      <td>109.0</td>\n",
       "      <td>7.0</td>\n",
       "      <td>8.0</td>\n",
       "      <td>Gaurav Bakshi</td>\n",
       "      <td>Rasika Dugal</td>\n",
       "      <td>Drama</td>\n",
       "    </tr>\n",
       "    <tr>\n",
       "      <th>1</th>\n",
       "      <td>2019.0</td>\n",
       "      <td>110.0</td>\n",
       "      <td>4.4</td>\n",
       "      <td>35.0</td>\n",
       "      <td>Ovais Khan</td>\n",
       "      <td>Prateik</td>\n",
       "      <td>Comedy</td>\n",
       "    </tr>\n",
       "    <tr>\n",
       "      <th>2</th>\n",
       "      <td>1997.0</td>\n",
       "      <td>147.0</td>\n",
       "      <td>4.7</td>\n",
       "      <td>827.0</td>\n",
       "      <td>Rahul Rawail</td>\n",
       "      <td>Bobby Deol</td>\n",
       "      <td>Comedy</td>\n",
       "    </tr>\n",
       "    <tr>\n",
       "      <th>3</th>\n",
       "      <td>2005.0</td>\n",
       "      <td>142.0</td>\n",
       "      <td>7.4</td>\n",
       "      <td>1086.0</td>\n",
       "      <td>Shoojit Sircar</td>\n",
       "      <td>Jimmy Sheirgill</td>\n",
       "      <td>Drama</td>\n",
       "    </tr>\n",
       "    <tr>\n",
       "      <th>4</th>\n",
       "      <td>2012.0</td>\n",
       "      <td>82.0</td>\n",
       "      <td>5.6</td>\n",
       "      <td>326.0</td>\n",
       "      <td>Allyson Patel</td>\n",
       "      <td>Yash Dave</td>\n",
       "      <td>Horror</td>\n",
       "    </tr>\n",
       "  </tbody>\n",
       "</table>\n",
       "</div>"
      ],
      "text/plain": [
       "     Year  Duration  Rating   Votes        Director          Actor 1   Genre\n",
       "0  2019.0     109.0     7.0     8.0   Gaurav Bakshi     Rasika Dugal   Drama\n",
       "1  2019.0     110.0     4.4    35.0      Ovais Khan          Prateik  Comedy\n",
       "2  1997.0     147.0     4.7   827.0    Rahul Rawail       Bobby Deol  Comedy\n",
       "3  2005.0     142.0     7.4  1086.0  Shoojit Sircar  Jimmy Sheirgill   Drama\n",
       "4  2012.0      82.0     5.6   326.0   Allyson Patel        Yash Dave  Horror"
      ]
     },
     "execution_count": 34,
     "metadata": {},
     "output_type": "execute_result"
    }
   ],
   "source": [
    "df1.head()"
   ]
  },
  {
   "cell_type": "code",
   "execution_count": 35,
   "id": "2884fdde",
   "metadata": {},
   "outputs": [
    {
     "data": {
      "text/html": [
       "<div>\n",
       "<style scoped>\n",
       "    .dataframe tbody tr th:only-of-type {\n",
       "        vertical-align: middle;\n",
       "    }\n",
       "\n",
       "    .dataframe tbody tr th {\n",
       "        vertical-align: top;\n",
       "    }\n",
       "\n",
       "    .dataframe thead th {\n",
       "        text-align: right;\n",
       "    }\n",
       "</style>\n",
       "<table border=\"1\" class=\"dataframe\">\n",
       "  <thead>\n",
       "    <tr style=\"text-align: right;\">\n",
       "      <th></th>\n",
       "      <th>Year</th>\n",
       "      <th>Duration</th>\n",
       "      <th>Rating</th>\n",
       "      <th>Votes</th>\n",
       "      <th>Director</th>\n",
       "      <th>Actor 1</th>\n",
       "      <th>Genre</th>\n",
       "    </tr>\n",
       "  </thead>\n",
       "  <tbody>\n",
       "    <tr>\n",
       "      <th>3186</th>\n",
       "      <td>2020.0</td>\n",
       "      <td>94.0</td>\n",
       "      <td>10.0</td>\n",
       "      <td>5.0</td>\n",
       "      <td>Saif Ali Sayeed</td>\n",
       "      <td>Ahaan Jha</td>\n",
       "      <td>Drama</td>\n",
       "    </tr>\n",
       "  </tbody>\n",
       "</table>\n",
       "</div>"
      ],
      "text/plain": [
       "        Year  Duration  Rating  Votes         Director    Actor 1  Genre\n",
       "3186  2020.0      94.0    10.0    5.0  Saif Ali Sayeed  Ahaan Jha  Drama"
      ]
     },
     "execution_count": 35,
     "metadata": {},
     "output_type": "execute_result"
    }
   ],
   "source": [
    "# Movie with Highest Rating.\n",
    "df1.loc[df1['Rating']==df1['Rating'].max()]"
   ]
  },
  {
   "cell_type": "code",
   "execution_count": 36,
   "id": "744eb7df",
   "metadata": {},
   "outputs": [
    {
     "data": {
      "text/html": [
       "<div>\n",
       "<style scoped>\n",
       "    .dataframe tbody tr th:only-of-type {\n",
       "        vertical-align: middle;\n",
       "    }\n",
       "\n",
       "    .dataframe tbody tr th {\n",
       "        vertical-align: top;\n",
       "    }\n",
       "\n",
       "    .dataframe thead th {\n",
       "        text-align: right;\n",
       "    }\n",
       "</style>\n",
       "<table border=\"1\" class=\"dataframe\">\n",
       "  <thead>\n",
       "    <tr style=\"text-align: right;\">\n",
       "      <th></th>\n",
       "      <th>Year</th>\n",
       "      <th>Duration</th>\n",
       "      <th>Rating</th>\n",
       "      <th>Votes</th>\n",
       "      <th>Director</th>\n",
       "      <th>Actor 1</th>\n",
       "      <th>Genre</th>\n",
       "    </tr>\n",
       "  </thead>\n",
       "  <tbody>\n",
       "    <tr>\n",
       "      <th>4519</th>\n",
       "      <td>2020.0</td>\n",
       "      <td>133.0</td>\n",
       "      <td>1.1</td>\n",
       "      <td>67785.0</td>\n",
       "      <td>Mahesh Bhatt</td>\n",
       "      <td>Alia Bhatt</td>\n",
       "      <td>Action</td>\n",
       "    </tr>\n",
       "  </tbody>\n",
       "</table>\n",
       "</div>"
      ],
      "text/plain": [
       "        Year  Duration  Rating    Votes      Director     Actor 1   Genre\n",
       "4519  2020.0     133.0     1.1  67785.0  Mahesh Bhatt  Alia Bhatt  Action"
      ]
     },
     "execution_count": 36,
     "metadata": {},
     "output_type": "execute_result"
    }
   ],
   "source": [
    "# Movie with Minimum Rating\n",
    "df1.loc[(df1['Rating'].min()==df1['Rating']) ]"
   ]
  },
  {
   "cell_type": "markdown",
   "id": "ec5c0252",
   "metadata": {},
   "source": [
    "#### Rating - Actorwise : "
   ]
  },
  {
   "cell_type": "code",
   "execution_count": 37,
   "id": "932d9a4a",
   "metadata": {},
   "outputs": [
    {
     "data": {
      "text/plain": [
       "Actor 1           \n",
       "Amitabh Bachchan      104\n",
       "Mithun Chakraborty     93\n",
       "Ashok Kumar            91\n",
       "Dharmendra             90\n",
       "Jeetendra              89\n",
       "Akshay Kumar           82\n",
       "Shashi Kapoor          81\n",
       "Rajesh Khanna          74\n",
       "Ajay Devgn             70\n",
       "Sanjay Dutt            61\n",
       "dtype: int64"
      ]
     },
     "execution_count": 37,
     "metadata": {},
     "output_type": "execute_result"
    }
   ],
   "source": [
    "actor = df1[['Actor 1']].value_counts().sort_values(ascending=False).head(10)\n",
    "actor"
   ]
  },
  {
   "cell_type": "code",
   "execution_count": 38,
   "id": "95a4b42a",
   "metadata": {},
   "outputs": [
    {
     "data": {
      "text/plain": [
       "Actor 1\n",
       "Aamir Khan             8.4\n",
       "Amitabh Bachchan       7.4\n",
       "Anil Kapoor            7.2\n",
       "Dhruva Padmakumar      8.1\n",
       "Ehan Bhat              7.4\n",
       "Geeta Agrawal          7.3\n",
       "Guru Dutt              7.2\n",
       "Jennifer Kendal        7.5\n",
       "Jimmy Sheirgill        7.4\n",
       "Kalki Koechlin         7.5\n",
       "Madhavan               7.3\n",
       "Manoj Bajpayee         8.1\n",
       "Nachiket Patwardhan    7.7\n",
       "Naseeruddin Shah       7.8\n",
       "Raj Nidimoru           7.3\n",
       "Rajvvir Aroraa         7.3\n",
       "Rasika Dugal           7.0\n",
       "Sanjay Deyali          8.0\n",
       "Shabana Azmi           7.1\n",
       "Srishti Gautam         7.8\n",
       "Name: Rating, dtype: float64"
      ]
     },
     "execution_count": 38,
     "metadata": {},
     "output_type": "execute_result"
    }
   ],
   "source": [
    "# Top 20 Highly rated Actor\n",
    "top_20_rated_movies_of_actor=df1[(df1['Rating']>=7)]['Actor 1'].head(20)\n",
    "top_20_actor=df1.groupby(top_20_rated_movies_of_actor)['Rating'].mean()\n",
    "top_20_actor"
   ]
  },
  {
   "cell_type": "code",
   "execution_count": 39,
   "id": "ae056645",
   "metadata": {},
   "outputs": [
    {
     "data": {
      "image/png": "[encoded data removed]",
      "text/plain": [
       "<Figure size 1080x576 with 1 Axes>"
      ]
     },
     "metadata": {},
     "output_type": "display_data"
    }
   ],
   "source": [
    "plt.figure(figsize=(15, 8))\n",
    "TopActors = df1['Actor 1'].value_counts().index[:10]\n",
    "sns.boxplot(data=df1[df1['Actor 1'].isin(TopActors)], x='Actor 1', y='Rating', palette='muted')\n",
    "\n",
    "plt.title('Box Plot of Ratings by Top 20 Actors')\n",
    "plt.xlabel('Actors')\n",
    "plt.ylabel('Rating')\n",
    "plt.xticks(rotation=45)\n",
    "plt.show()"
   ]
  },
  {
   "cell_type": "markdown",
   "id": "56efb839",
   "metadata": {},
   "source": [
    "#### Rating - DirectorWise  : "
   ]
  },
  {
   "cell_type": "code",
   "execution_count": 40,
   "id": "0d3e8142",
   "metadata": {},
   "outputs": [
    {
     "data": {
      "text/plain": [
       "Director            \n",
       "David Dhawan            41\n",
       "Mahesh Bhatt            39\n",
       "Ram Gopal Varma         34\n",
       "Hrishikesh Mukherjee    33\n",
       "Shakti Samanta          33\n",
       "Vikram Bhatt            30\n",
       "Priyadarshan            29\n",
       "Basu Chatterjee         23\n",
       "Rama Rao Tatineni       23\n",
       "Kanti Shah              22\n",
       "dtype: int64"
      ]
     },
     "execution_count": 40,
     "metadata": {},
     "output_type": "execute_result"
    }
   ],
   "source": [
    "director = df1[['Director']].value_counts().sort_values(ascending=False).head(10)\n",
    "director"
   ]
  },
  {
   "cell_type": "code",
   "execution_count": 41,
   "id": "572ee37b",
   "metadata": {},
   "outputs": [
    {
     "data": {
      "text/plain": [
       "Director\n",
       "Amrit Sagar                   8.1\n",
       "Aparna Sen                    7.3\n",
       "Dhruv Sachdev                 8.0\n",
       "Gaurav Bakshi                 7.0\n",
       "Jayoo Patwardhan              7.7\n",
       "Konkona Sen Sharma            7.5\n",
       "Krishna D.K.                  7.3\n",
       "Nagesh Kukunoor               7.8\n",
       "Padmakumar Narasimhamurthy    8.1\n",
       "Pramod Chakravorty            7.2\n",
       "Praveen Damle                 7.3\n",
       "Prawaal Raman                 7.3\n",
       "Rajkumar Hirani               8.4\n",
       "Shoojit Sircar                7.4\n",
       "Suhaib Ilyasi                 7.8\n",
       "Umesh Shukla                  7.4\n",
       "Vidhu Vinod Chopra            7.2\n",
       "Vikram K. Kumar               7.3\n",
       "Vishwesh Krishnamoorthy       7.4\n",
       "Name: Rating, dtype: float64"
      ]
     },
     "execution_count": 41,
     "metadata": {},
     "output_type": "execute_result"
    }
   ],
   "source": [
    "# Top 10 Highly rated Director\n",
    "top_10_rated_movies_of_director=df1[(df1['Rating']>=7)]['Director'].head(20)\n",
    "top_10_actor=df1.groupby(top_10_rated_movies_of_director)['Rating'].mean()\n",
    "top_10_actor"
   ]
  },
  {
   "cell_type": "code",
   "execution_count": 42,
   "id": "a80531e8",
   "metadata": {},
   "outputs": [
    {
     "data": {
      "image/png": "[encoded data removed]",
      "text/plain": [
       "<Figure size 1080x576 with 1 Axes>"
      ]
     },
     "metadata": {},
     "output_type": "display_data"
    }
   ],
   "source": [
    "plt.figure(figsize=(15, 8))\n",
    "TopDirectors=df1['Director'].value_counts().index[0:10]\n",
    "sns.boxplot(data=df1[df1['Director'].isin(TopDirectors)], x='Director', y='Rating', palette='bright')\n",
    "\n",
    "plt.title('Box Plot of Ratings by Top 10 Directors')\n",
    "plt.xlabel('Director')\n",
    "plt.ylabel('Rating')\n",
    "plt.xticks(rotation=45)\n",
    "plt.show()"
   ]
  },
  {
   "cell_type": "markdown",
   "id": "c5bc288d",
   "metadata": {},
   "source": [
    "### Movies vs year : "
   ]
  },
  {
   "cell_type": "code",
   "execution_count": 43,
   "id": "bf1b37c9",
   "metadata": {},
   "outputs": [
    {
     "data": {
      "image/png": "[encoded data removed]",
      "text/plain": [
       "<Figure size 1080x576 with 1 Axes>"
      ]
     },
     "metadata": {},
     "output_type": "display_data"
    }
   ],
   "source": [
    "# Grouping data by year and calculate the count of movies for each year\n",
    "yearwise_movie = df1.groupby('Year').size()\n",
    "\n",
    "# Create a time series plot for the number of movies released over the years\n",
    "plt.figure(figsize=(15,8))\n",
    "plt.plot(yearwise_movie.index, yearwise_movie.values)\n",
    "plt.title('Number of Movies Released Yearwise ', fontsize = 15)\n",
    "plt.xlabel('Year', fontsize =15)\n",
    "plt.ylabel('Number of Movies', fontsize= 15)\n",
    "plt.show()"
   ]
  },
  {
   "cell_type": "markdown",
   "id": "2ea98934",
   "metadata": {},
   "source": [
    "**From Above plot we can observe the increasing trend in movie made every year.**"
   ]
  },
  {
   "cell_type": "code",
   "execution_count": 44,
   "id": "a48aaf9f",
   "metadata": {},
   "outputs": [
    {
     "data": {
      "image/png": "[encoded data removed]",
      "text/plain": [
       "<Figure size 1080x576 with 1 Axes>"
      ]
     },
     "metadata": {},
     "output_type": "display_data"
    }
   ],
   "source": [
    "# Grouping data by year and calculate the mean rating for each year\n",
    "Yearwise_rating= df1.groupby('Year')['Rating'].mean()\n",
    "\n",
    "# Create a time series plot for movie ratings over the years\n",
    "plt.figure(figsize=(15,8))\n",
    "Yearwise_rating.plot()\n",
    "plt.title('Movie Ratings Over the Years',fontsize=15)\n",
    "plt.xlabel('Year',fontsize=15)\n",
    "plt.ylabel('Average Rating',fontsize=15)\n",
    "plt.show()"
   ]
  },
  {
   "cell_type": "markdown",
   "id": "7f50bb93",
   "metadata": {},
   "source": [
    "**The plot indicates that movies from 1940 to 1980 tend to have higher ratings compared to those released between 1980 and 2000. This suggests that, despite an increase in the number of movies produced during the latter period, their average ratings have declined.**"
   ]
  },
  {
   "cell_type": "markdown",
   "id": "9d7339de",
   "metadata": {},
   "source": [
    "#### Duration Distribution : "
   ]
  },
  {
   "cell_type": "code",
   "execution_count": 45,
   "id": "536cc13f",
   "metadata": {},
   "outputs": [
    {
     "data": {
      "image/png": "[encoded data removed]",
      "text/plain": [
       "<Figure size 1080x576 with 1 Axes>"
      ]
     },
     "metadata": {},
     "output_type": "display_data"
    }
   ],
   "source": [
    "plt.figure(figsize=(15,8))\n",
    "sns.histplot(df1['Duration'],bins=20,kde=True,color='lightcoral')\n",
    "plt.title('Distribution of Movie Duration')\n",
    "plt.xlabel('Duration (minutes)')\n",
    "plt.ylabel('Frequency')\n",
    "plt.show()"
   ]
  },
  {
   "cell_type": "markdown",
   "id": "f0923458",
   "metadata": {},
   "source": [
    "#### Frequency of Votes :"
   ]
  },
  {
   "cell_type": "code",
   "execution_count": 46,
   "id": "190a65b7",
   "metadata": {},
   "outputs": [
    {
     "data": {
      "image/png": "[encoded data removed]",
      "text/plain": [
       "<Figure size 1080x576 with 1 Axes>"
      ]
     },
     "metadata": {},
     "output_type": "display_data"
    }
   ],
   "source": [
    "plt.figure(figsize=(15,8))\n",
    "sns.histplot(df1['Votes'],bins=20,kde=True,color='orange')\n",
    "plt.title('Distribution of Movie Votes')\n",
    "plt.xlabel('Votes')\n",
    "plt.ylabel('Frequency')\n",
    "plt.xscale('log')\n",
    "plt.show()"
   ]
  },
  {
   "cell_type": "markdown",
   "id": "5d1f2cb6",
   "metadata": {},
   "source": [
    "#### Frequency of Genre : "
   ]
  },
  {
   "cell_type": "code",
   "execution_count": 47,
   "id": "acaac5d6",
   "metadata": {},
   "outputs": [
    {
     "data": {
      "image/png": "[encoded data removed]",
      "text/plain": [
       "<Figure size 1080x576 with 1 Axes>"
      ]
     },
     "metadata": {},
     "output_type": "display_data"
    }
   ],
   "source": [
    "plt.figure(figsize=(15,8))\n",
    "sns.histplot(df1['Genre'],bins=20,kde=True,color='red')\n",
    "plt.title('Distribution of Movie Genre')\n",
    "plt.xlabel('Genre')\n",
    "plt.ylabel('Frequency')\n",
    "plt.show()"
   ]
  },
  {
   "cell_type": "markdown",
   "id": "6daff113",
   "metadata": {},
   "source": [
    "#### Top 3 Genre:\n",
    "**Drama, Action and Comedy genre are most frequent in the dataset.**"
   ]
  },
  {
   "cell_type": "code",
   "execution_count": 48,
   "id": "bde025ed",
   "metadata": {},
   "outputs": [],
   "source": [
    "# Encoding Coloumns Director,Genre and Actor 1 asper rating.\n",
    "df1['Director encoded']= round(df1.groupby('Director')['Rating'].transform('mean'), 1)\n",
    "df1['Actor 1 encoded']= round(df1.groupby('Actor 1')['Rating'].transform('mean'), 1)\n",
    "df1['Genre Encoded'] =round(df1.groupby('Genre')['Rating'].transform('mean'),1)"
   ]
  },
  {
   "cell_type": "code",
   "execution_count": 49,
   "id": "96a038ab",
   "metadata": {
    "scrolled": true
   },
   "outputs": [
    {
     "data": {
      "text/html": [
       "<div>\n",
       "<style scoped>\n",
       "    .dataframe tbody tr th:only-of-type {\n",
       "        vertical-align: middle;\n",
       "    }\n",
       "\n",
       "    .dataframe tbody tr th {\n",
       "        vertical-align: top;\n",
       "    }\n",
       "\n",
       "    .dataframe thead th {\n",
       "        text-align: right;\n",
       "    }\n",
       "</style>\n",
       "<table border=\"1\" class=\"dataframe\">\n",
       "  <thead>\n",
       "    <tr style=\"text-align: right;\">\n",
       "      <th></th>\n",
       "      <th>Year</th>\n",
       "      <th>Duration</th>\n",
       "      <th>Rating</th>\n",
       "      <th>Votes</th>\n",
       "      <th>Director</th>\n",
       "      <th>Actor 1</th>\n",
       "      <th>Genre</th>\n",
       "      <th>Director encoded</th>\n",
       "      <th>Actor 1 encoded</th>\n",
       "      <th>Genre Encoded</th>\n",
       "    </tr>\n",
       "  </thead>\n",
       "  <tbody>\n",
       "    <tr>\n",
       "      <th>0</th>\n",
       "      <td>2019.0</td>\n",
       "      <td>109.0</td>\n",
       "      <td>7.0</td>\n",
       "      <td>8.0</td>\n",
       "      <td>Gaurav Bakshi</td>\n",
       "      <td>Rasika Dugal</td>\n",
       "      <td>Drama</td>\n",
       "      <td>7.0</td>\n",
       "      <td>6.8</td>\n",
       "      <td>6.3</td>\n",
       "    </tr>\n",
       "    <tr>\n",
       "      <th>1</th>\n",
       "      <td>2019.0</td>\n",
       "      <td>110.0</td>\n",
       "      <td>4.4</td>\n",
       "      <td>35.0</td>\n",
       "      <td>Ovais Khan</td>\n",
       "      <td>Prateik</td>\n",
       "      <td>Comedy</td>\n",
       "      <td>4.4</td>\n",
       "      <td>5.4</td>\n",
       "      <td>5.8</td>\n",
       "    </tr>\n",
       "    <tr>\n",
       "      <th>2</th>\n",
       "      <td>1997.0</td>\n",
       "      <td>147.0</td>\n",
       "      <td>4.7</td>\n",
       "      <td>827.0</td>\n",
       "      <td>Rahul Rawail</td>\n",
       "      <td>Bobby Deol</td>\n",
       "      <td>Comedy</td>\n",
       "      <td>5.3</td>\n",
       "      <td>4.8</td>\n",
       "      <td>5.8</td>\n",
       "    </tr>\n",
       "    <tr>\n",
       "      <th>3</th>\n",
       "      <td>2005.0</td>\n",
       "      <td>142.0</td>\n",
       "      <td>7.4</td>\n",
       "      <td>1086.0</td>\n",
       "      <td>Shoojit Sircar</td>\n",
       "      <td>Jimmy Sheirgill</td>\n",
       "      <td>Drama</td>\n",
       "      <td>7.4</td>\n",
       "      <td>5.4</td>\n",
       "      <td>6.3</td>\n",
       "    </tr>\n",
       "    <tr>\n",
       "      <th>4</th>\n",
       "      <td>2012.0</td>\n",
       "      <td>82.0</td>\n",
       "      <td>5.6</td>\n",
       "      <td>326.0</td>\n",
       "      <td>Allyson Patel</td>\n",
       "      <td>Yash Dave</td>\n",
       "      <td>Horror</td>\n",
       "      <td>5.6</td>\n",
       "      <td>5.6</td>\n",
       "      <td>4.7</td>\n",
       "    </tr>\n",
       "  </tbody>\n",
       "</table>\n",
       "</div>"
      ],
      "text/plain": [
       "     Year  Duration  Rating   Votes        Director          Actor 1   Genre  \\\n",
       "0  2019.0     109.0     7.0     8.0   Gaurav Bakshi     Rasika Dugal   Drama   \n",
       "1  2019.0     110.0     4.4    35.0      Ovais Khan          Prateik  Comedy   \n",
       "2  1997.0     147.0     4.7   827.0    Rahul Rawail       Bobby Deol  Comedy   \n",
       "3  2005.0     142.0     7.4  1086.0  Shoojit Sircar  Jimmy Sheirgill   Drama   \n",
       "4  2012.0      82.0     5.6   326.0   Allyson Patel        Yash Dave  Horror   \n",
       "\n",
       "   Director encoded  Actor 1 encoded  Genre Encoded  \n",
       "0               7.0              6.8            6.3  \n",
       "1               4.4              5.4            5.8  \n",
       "2               5.3              4.8            5.8  \n",
       "3               7.4              5.4            6.3  \n",
       "4               5.6              5.6            4.7  "
      ]
     },
     "execution_count": 49,
     "metadata": {},
     "output_type": "execute_result"
    }
   ],
   "source": [
    "df1.head()"
   ]
  },
  {
   "cell_type": "code",
   "execution_count": 50,
   "id": "4435aba8",
   "metadata": {},
   "outputs": [],
   "source": [
    "# Dropping coloumn Director and Actor 1.\n",
    "df1.drop(columns=['Director','Actor 1','Genre'],inplace=True)"
   ]
  },
  {
   "cell_type": "markdown",
   "id": "8d5ceb7c",
   "metadata": {},
   "source": [
    "## 3 Building Models : "
   ]
  },
  {
   "cell_type": "code",
   "execution_count": 51,
   "id": "c2c7261e",
   "metadata": {},
   "outputs": [],
   "source": [
    "# importing necessary Libraries : \n",
    "from sklearn.model_selection import train_test_split\n",
    "from sklearn.ensemble import RandomForestRegressor, GradientBoostingRegressor\n",
    "from sklearn.svm import SVR\n",
    "from sklearn.linear_model import LinearRegression\n",
    "from sklearn.metrics import mean_squared_error\n",
    "from sklearn.metrics import r2_score\n",
    "from sklearn.tree import DecisionTreeRegressor"
   ]
  },
  {
   "cell_type": "markdown",
   "id": "6e69a100",
   "metadata": {},
   "source": [
    "### 3.1 Train-Test Split :"
   ]
  },
  {
   "cell_type": "code",
   "execution_count": 52,
   "id": "efb57090",
   "metadata": {},
   "outputs": [],
   "source": [
    "X = df1.drop(\"Rating\",axis=1)\n",
    "Y = df1[\"Rating\"]\n",
    "\n",
    "X_train,X_test,Y_train,Y_test=train_test_split(X,Y,test_size=0.2,random_state=111)"
   ]
  },
  {
   "cell_type": "code",
   "execution_count": 53,
   "id": "050abf94",
   "metadata": {},
   "outputs": [
    {
     "data": {
      "text/plain": [
       "(4596, 6)"
      ]
     },
     "execution_count": 53,
     "metadata": {},
     "output_type": "execute_result"
    }
   ],
   "source": [
    "X_train.shape"
   ]
  },
  {
   "cell_type": "code",
   "execution_count": 54,
   "id": "4d117b5c",
   "metadata": {},
   "outputs": [
    {
     "data": {
      "text/plain": [
       "(1150, 6)"
      ]
     },
     "execution_count": 54,
     "metadata": {},
     "output_type": "execute_result"
    }
   ],
   "source": [
    "X_test.shape"
   ]
  },
  {
   "cell_type": "markdown",
   "id": "4db6c7d1",
   "metadata": {},
   "source": [
    "###  3.2 Models : "
   ]
  },
  {
   "cell_type": "markdown",
   "id": "6455179a",
   "metadata": {},
   "source": [
    "#### 3.2.1 Linear Regression : "
   ]
  },
  {
   "cell_type": "code",
   "execution_count": 55,
   "id": "a48df2c5",
   "metadata": {},
   "outputs": [
    {
     "name": "stdout",
     "output_type": "stream",
     "text": [
      "Mean Squared Error (MSE): 0.54\n",
      "R-squared score: 0.73\n"
     ]
    }
   ],
   "source": [
    "# Building the Linear Regression model\n",
    "linear_regression_model = LinearRegression()\n",
    "linear_regression_model.fit(X_train, Y_train)\n",
    "\n",
    "# Predicting on the test set\n",
    "Y_test_predictions = linear_regression_model.predict(X_test)\n",
    "\n",
    "# Calculating Mean Squared Error\n",
    "mse_LR = mean_squared_error(Y_test, Y_test_predictions)\n",
    "print(f\"Mean Squared Error (MSE): {mse_LR:.2f}\")\n",
    "\n",
    "# Calculating R-squared score\n",
    "r2_LR = r2_score(Y_test, Y_test_predictions)\n",
    "print(f\"R-squared score: {r2_LR:.2f}\")"
   ]
  },
  {
   "cell_type": "markdown",
   "id": "5bffbe15",
   "metadata": {},
   "source": [
    "#### 3.2.2 Decison Tree : "
   ]
  },
  {
   "cell_type": "code",
   "execution_count": 56,
   "id": "0fdbcd4d",
   "metadata": {},
   "outputs": [
    {
     "name": "stdout",
     "output_type": "stream",
     "text": [
      "Mean Squared Error (MSE): 0.94\n",
      "R-squared score: 0.54\n"
     ]
    }
   ],
   "source": [
    "# Initialize the model\n",
    "decision_tree_model = DecisionTreeRegressor(random_state=10)\n",
    "\n",
    "# Fit the model\n",
    "decision_tree_model.fit(X_train, Y_train)\n",
    "\n",
    "# Make predictions on the test set\n",
    "Y_pred_DT = decision_tree_model.predict(X_test)\n",
    "\n",
    "# Calculate Mean Squared Error (MSE)\n",
    "mse_DT = mean_squared_error(Y_test, Y_pred_DT)\n",
    "print(f\"Mean Squared Error (MSE): {mse_DT:.2f}\")\n",
    "\n",
    "# Calculate R-squared score (R2)\n",
    "r2_DT = r2_score(Y_test, Y_pred_DT)\n",
    "print(f\"R-squared score: {r2_DT:.2f}\")"
   ]
  },
  {
   "cell_type": "markdown",
   "id": "0e77f087",
   "metadata": {},
   "source": [
    "#### 3.2.3 Random Forest :"
   ]
  },
  {
   "cell_type": "code",
   "execution_count": 57,
   "id": "c9ab0ee4",
   "metadata": {},
   "outputs": [
    {
     "name": "stdout",
     "output_type": "stream",
     "text": [
      "Mean Squared Error (MSE): 0.48\n",
      "R-squared score: 0.76\n"
     ]
    }
   ],
   "source": [
    "# Initialize the model\n",
    "random_forest_model = RandomForestRegressor(random_state=10)\n",
    "\n",
    "# Fit the model\n",
    "random_forest_model.fit(X_train, Y_train)\n",
    "\n",
    "# Make predictions on the test set\n",
    "y_pred_RF = random_forest_model.predict(X_test)\n",
    "\n",
    "# Calculate Mean Squared Error (MSE)\n",
    "mse_RF= mean_squared_error(Y_test, y_pred_RF)\n",
    "print(f\"Mean Squared Error (MSE): {mse_RF:.2f}\")\n",
    "\n",
    "# Calculate R-squared score (R2)\n",
    "r2_RF = r2_score(Y_test, y_pred_RF)\n",
    "print(f\"R-squared score: {r2_RF:.2f}\")"
   ]
  },
  {
   "cell_type": "markdown",
   "id": "bbb68c36",
   "metadata": {},
   "source": [
    "####  3.2.4 Gradient Boosting : "
   ]
  },
  {
   "cell_type": "code",
   "execution_count": 58,
   "id": "8ca510fc",
   "metadata": {},
   "outputs": [
    {
     "name": "stdout",
     "output_type": "stream",
     "text": [
      "Mean Squared Error (MSE): 0.48\n",
      "R-squared score: 0.77\n"
     ]
    }
   ],
   "source": [
    "# Initialize the model\n",
    "gradient_boost_model = GradientBoostingRegressor(random_state=10)\n",
    "\n",
    "# Fit the model\n",
    "gradient_boost_model.fit(X_train, Y_train)\n",
    "\n",
    "# Make predictions on the test set\n",
    "y_pred_GB = gradient_boost_model.predict(X_test)\n",
    "\n",
    "# Calculate Mean Squared Error (MSE)\n",
    "mse_GB = mean_squared_error(Y_test, y_pred_GB)\n",
    "print(f\"Mean Squared Error (MSE): {mse_GB:.2f}\")\n",
    "\n",
    "# Calculate R-squared score (R2)\n",
    "r2_GB = r2_score(Y_test, y_pred_GB)\n",
    "print(f\"R-squared score: {r2_GB:.2f}\")"
   ]
  },
  {
   "cell_type": "markdown",
   "id": "1b1e6378",
   "metadata": {},
   "source": [
    "**Creating Evaluation Dataframe :**"
   ]
  },
  {
   "cell_type": "code",
   "execution_count": 59,
   "id": "a3e903d5",
   "metadata": {},
   "outputs": [
    {
     "data": {
      "text/html": [
       "<div>\n",
       "<style scoped>\n",
       "    .dataframe tbody tr th:only-of-type {\n",
       "        vertical-align: middle;\n",
       "    }\n",
       "\n",
       "    .dataframe tbody tr th {\n",
       "        vertical-align: top;\n",
       "    }\n",
       "\n",
       "    .dataframe thead th {\n",
       "        text-align: right;\n",
       "    }\n",
       "</style>\n",
       "<table border=\"1\" class=\"dataframe\">\n",
       "  <thead>\n",
       "    <tr style=\"text-align: right;\">\n",
       "      <th></th>\n",
       "      <th>Model</th>\n",
       "      <th>Mean Squared Error (MSE)</th>\n",
       "      <th>R-squared score (R2)</th>\n",
       "    </tr>\n",
       "  </thead>\n",
       "  <tbody>\n",
       "    <tr>\n",
       "      <th>0</th>\n",
       "      <td>Linear Regression</td>\n",
       "      <td>53.924630</td>\n",
       "      <td>73.479240</td>\n",
       "    </tr>\n",
       "    <tr>\n",
       "      <th>1</th>\n",
       "      <td>Decision Tree</td>\n",
       "      <td>93.587826</td>\n",
       "      <td>53.972419</td>\n",
       "    </tr>\n",
       "    <tr>\n",
       "      <th>2</th>\n",
       "      <td>Random Forest</td>\n",
       "      <td>47.815188</td>\n",
       "      <td>76.483935</td>\n",
       "    </tr>\n",
       "    <tr>\n",
       "      <th>3</th>\n",
       "      <td>Gradient Boosting</td>\n",
       "      <td>47.743138</td>\n",
       "      <td>76.519370</td>\n",
       "    </tr>\n",
       "  </tbody>\n",
       "</table>\n",
       "</div>"
      ],
      "text/plain": [
       "               Model  Mean Squared Error (MSE)  R-squared score (R2)\n",
       "0  Linear Regression                 53.924630             73.479240\n",
       "1      Decision Tree                 93.587826             53.972419\n",
       "2      Random Forest                 47.815188             76.483935\n",
       "3  Gradient Boosting                 47.743138             76.519370"
      ]
     },
     "execution_count": 59,
     "metadata": {},
     "output_type": "execute_result"
    }
   ],
   "source": [
    "Evaluation_Df = pd.DataFrame({\n",
    "    'Model': ['Linear Regression','Decision Tree','Random Forest','Gradient Boosting'],\n",
    "    'Mean Squared Error (MSE)': [mse_LR*100,mse_DT*100,mse_RF*100, mse_GB*100],\n",
    "    'R-squared score (R2)': [r2_LR*100, r2_DT*100,r2_RF*100,r2_GB*100]\n",
    "})\n",
    "Evaluation_Df"
   ]
  },
  {
   "cell_type": "markdown",
   "id": "f38d48c3",
   "metadata": {},
   "source": [
    "**Visualising :**"
   ]
  },
  {
   "cell_type": "code",
   "execution_count": 60,
   "id": "ef1d32ff",
   "metadata": {},
   "outputs": [],
   "source": [
    "models = Evaluation_Df['Model']\n",
    "mse_scores = Evaluation_Df['Mean Squared Error (MSE)'].round(2)\n",
    "r2_scores = Evaluation_Df['R-squared score (R2)'].round(2)\n",
    "num_models = len(models)\n",
    "width = 0.40\n",
    "index = np.arange(num_models)"
   ]
  },
  {
   "cell_type": "code",
   "execution_count": 61,
   "id": "6b150e0b",
   "metadata": {},
   "outputs": [
    {
     "data": {
      "image/png": "[encoded data removed]",
      "text/plain": [
       "<Figure size 864x576 with 1 Axes>"
      ]
     },
     "metadata": {},
     "output_type": "display_data"
    }
   ],
   "source": [
    "plt.figure(figsize=(12, 8))\n",
    "\n",
    "plt.bar(index,mse_scores,width,label='Mean Squared Error (MSE)',color='Red',alpha=0.5)\n",
    "plt.bar(index +width,r2_scores, width,label='R-squared (R2)',color='Blue',alpha=0.5)\n",
    "\n",
    "plt.xlabel('Models')\n",
    "plt.ylabel('Scores')\n",
    "plt.title('Model Comparision')\n",
    "plt.xticks(index +width/2,models,rotation=45)\n",
    "plt.legend()\n",
    "plt.grid(axis='y')\n",
    "plt.tight_layout()\n",
    "plt.show()"
   ]
  },
  {
   "cell_type": "markdown",
   "id": "ea80af4d",
   "metadata": {},
   "source": [
    "## 4. Model Evaluation :"
   ]
  },
  {
   "cell_type": "markdown",
   "id": "b51ad470",
   "metadata": {},
   "source": [
    "We evaluated four regression models for predicting movie ratings: Linear Regression, Decision Tree, Random Forest, and Gradient Boosting. The performance metrics are as follows:\n",
    "\n",
    "| Model              | Mean Squared Error (MSE) | R-squared score (R²) |\n",
    "|--------------------|---------------------------|----------------------|\n",
    "| Linear Regression | 53.924                    | 73.479               |\n",
    "| Decision Tree      | 93.588                    | 53.972               |\n",
    "| Random Forest      | 47.815                    | 76.484               |\n",
    "| Gradient Boosting  | 47.743                    | 76.519               |\n",
    "\n",
    "### Best Model\n",
    "\n",
    "**Gradient Boosting**\n",
    "- **Mean Squared Error (MSE)**: 47.743\n",
    "- **R-squared score (R²)**: 76.519\n",
    "\n",
    "**Explanation**: Gradient Boosting achieved the lowest MSE and the highest R² score, making it the best-performing model. It offers the most accurate predictions and explains the highest proportion of variance in movie ratings.\n",
    "\n",
    "## Detailed Analysis\n",
    "\n",
    "**Linear Regression**: This model achieves a good balance with an R-squared score of 73.479, indicating it explains a substantial portion of the variance in movie ratings. However, its Mean Squared Error (MSE) of 53.924 is higher compared to other models, suggesting that while it is a decent performer, it falls short in prediction accuracy.\n",
    "\n",
    "**Decision Tree**: The Decision Tree model has the lowest accuracy with an MSE of 93.588 and an R-squared score of 53.972. Its performance is the weakest among the models, indicating it struggles to generalize well and may overfit the training data, resulting in higher prediction errors and less reliable results.\n",
    "\n",
    "**Random Forest**: With an MSE of 47.815 and an R-squared score of 76.484, the Random Forest model performs quite well. It provides a robust balance between minimizing errors and explaining variance. While it performs better than Linear Regression and Decision Tree, it still does not surpass the Gradient Boosting model in terms of overall effectiveness.\n",
    "\n",
    "**Gradient Boosting**: The Gradient Boosting model stands out with the lowest MSE of 47.743 and the highest R-squared score of 76.519. This model offers the best performance by accurately predicting movie ratings and explaining the most variance. Its advanced boosting techniques effectively capture complex patterns and correct errors, making it the most reliable model for this task.\n",
    "\n",
    "**Summary : Gradient Boosting provides the best balance between prediction accuracy and variance explanation, making it the most reliable model for predicting movie ratings. Random Forest is a strong alternative but does not quite match the performance of Gradient Boosting.**\n",
    "\n",
    "\n"
   ]
  },
  {
   "cell_type": "markdown",
   "id": "79e487d9",
   "metadata": {},
   "source": [
    "## 5. Conclusion :"
   ]
  },
  {
   "cell_type": "markdown",
   "id": "80847ac6",
   "metadata": {},
   "source": [
    "**In this project, we developed and evaluated several machine learning models to predict movie ratings from IMDb Movies dataset. After thorough assessment, the Gradient Boosting model emerged as the best performer, demonstrating the highest accuracy and the best ability to explain variance in movie ratings.**\n",
    "\n",
    "### Potential Future Improvements:\n",
    "\n",
    "- **Feature Engineering**: Explore additional feature engineering techniques to enhance the model’s performance by incorporating new insights or data transformations.\n",
    "- **Dimensionality Reduction**: Investigate dimensionality reduction techniques to improve model efficiency and reduce the risk of overfitting.\n",
    "\n"
   ]
  },
  {
   "cell_type": "code",
   "execution_count": null,
   "id": "bab4452e",
   "metadata": {},
   "outputs": [],
   "source": []
  }
 ],
 "metadata": {
  "kernelspec": {
   "display_name": "Python 3 (ipykernel)",
   "language": "python",
   "name": "python3"
  },
  "language_info": {
   "codemirror_mode": {
    "name": "ipython",
    "version": 3
   },
   "file_extension": ".py",
   "mimetype": "text/x-python",
   "name": "python",
   "nbconvert_exporter": "python",
   "pygments_lexer": "ipython3",
   "version": "3.9.12"
  }
 },
 "nbformat": 4,
 "nbformat_minor": 5
}
