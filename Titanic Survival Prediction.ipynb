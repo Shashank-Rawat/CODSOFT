{
 "cells": [
  {
   "cell_type": "markdown",
   "id": "e00dba62",
   "metadata": {},
   "source": [
    "<h1 style=\"text-align: center;\">TITANIC SURVIVAL PREDICTION </h1>"
   ]
  },
  {
   "cell_type": "markdown",
   "id": "405cb0c8",
   "metadata": {},
   "source": [
    "## Table of Contents\n",
    "Introduction<br>\n",
    "Objective<br>\n",
    "1. Exploratory Data Analysis<br>\n",
    "    1.1. Data Loading<br>\n",
    "    1.2 Data Cleaning and Preprocessing<br>\n",
    "    1.2.1 Checking for Duplicates<br>\n",
    "    1.2.2 Removing Irrelevant Variables<br>\n",
    "    1.2.3 Missing Value Handling<br>\n",
    "    1.3 Analysis by Visualization<br>\n",
    "2. Modeling<br>\n",
    "    2.1 Train-Test Split<br>\n",
    "    2.2 Classification<br>\n",
    "    2.2.1  Logistic Regression<br>\n",
    "    2.2.2 Decision Tree Classifier<br>\n",
    "    2.2.3 Random Forest Classifier<br>\n",
    "    2.2.4 Gradient Boost Classifier<br>\n",
    "    2.2.5 Support Vector Machine Classifier<br>\n",
    "3. Model Evaluation and Selection<br>\n",
    "4. Conclusion\n"
   ]
  },
  {
   "cell_type": "markdown",
   "id": "29cfd233",
   "metadata": {},
   "source": [
    "## Introduction :\n",
    "\n",
    "**The goal of this project is to develop a machine learning model to predict the survival of Titanic passengers based on features like age, gender, ticket class, fare, and cabin.**\n",
    "\n",
    "**The Titanic disaster is one of the most infamous shipwrecks ever recorded. On April 15, 1912, the RMS Titanic sank during its inaugural voyage, leading to the deaths of 1,502 out of 2,224 passengers. This project leverages a dataset containing passenger information to predict their likelihood of survival.**\n"
   ]
  },
  {
   "cell_type": "markdown",
   "id": "8e70218b",
   "metadata": {},
   "source": [
    "## Objective : \n",
    "\n",
    "1. Analyze the dataset and perform cleanup.\n",
    "2. Develop a robust classification model to predict passenger survival."
   ]
  },
  {
   "cell_type": "code",
   "execution_count": 105,
   "id": "542c7e71",
   "metadata": {},
   "outputs": [],
   "source": [
    "# importing required libraries\n",
    "import pandas as pd\n",
    "import numpy as np\n",
    "import matplotlib.pyplot as plt\n",
    "import os\n",
    "import seaborn as sns\n",
    "from sklearn.model_selection import train_test_split\n",
    "sns.set()\n",
    "import warnings \n",
    "warnings.filterwarnings(\"ignore\")"
   ]
  },
  {
   "cell_type": "code",
   "execution_count": 106,
   "id": "e1134b4c",
   "metadata": {},
   "outputs": [],
   "source": [
    "# iimporting machine learning classification Libraries.\n",
    "from sklearn.linear_model import LogisticRegression\n",
    "from sklearn.svm import SVC, LinearSVC\n",
    "from sklearn.ensemble import RandomForestClassifier\n",
    "from sklearn.tree import DecisionTreeClassifier"
   ]
  },
  {
   "cell_type": "code",
   "execution_count": 4,
   "id": "5a033429",
   "metadata": {},
   "outputs": [],
   "source": [
    "pd.set_option('display.max_columns',None)\n",
    "pd.set_option('display.max_rows',None)"
   ]
  },
  {
   "cell_type": "code",
   "execution_count": 5,
   "id": "c1881941",
   "metadata": {},
   "outputs": [
    {
     "data": {
      "text/plain": [
       "'C:\\\\Users\\\\Shashank Rawat'"
      ]
     },
     "execution_count": 5,
     "metadata": {},
     "output_type": "execute_result"
    }
   ],
   "source": [
    "os.getcwd()"
   ]
  },
  {
   "cell_type": "code",
   "execution_count": 6,
   "id": "19009133",
   "metadata": {},
   "outputs": [],
   "source": [
    "os.chdir(\"D:\\Data Science\\CodeSoft\")"
   ]
  },
  {
   "cell_type": "markdown",
   "id": "9af6a79b",
   "metadata": {},
   "source": [
    "## 1. Exploratory Data Analysis"
   ]
  },
  {
   "cell_type": "markdown",
   "id": "c08aff39",
   "metadata": {},
   "source": [
    "### 1.1 Data Loading:\n",
    "\n",
    "We begin by loading the dataset and showing the first few rows to gain an initial insight into the data."
   ]
  },
  {
   "cell_type": "code",
   "execution_count": 107,
   "id": "c235d4e1",
   "metadata": {},
   "outputs": [],
   "source": [
    "# Importing Dataset from the local system.\n",
    "df= pd.read_csv('Titanic-Dataset.csv')\n",
    "# creating Copy of dataset\n",
    "df1=df.copy()"
   ]
  },
  {
   "cell_type": "code",
   "execution_count": 108,
   "id": "72f703eb",
   "metadata": {},
   "outputs": [
    {
     "data": {
      "text/html": [
       "<div>\n",
       "<style scoped>\n",
       "    .dataframe tbody tr th:only-of-type {\n",
       "        vertical-align: middle;\n",
       "    }\n",
       "\n",
       "    .dataframe tbody tr th {\n",
       "        vertical-align: top;\n",
       "    }\n",
       "\n",
       "    .dataframe thead th {\n",
       "        text-align: right;\n",
       "    }\n",
       "</style>\n",
       "<table border=\"1\" class=\"dataframe\">\n",
       "  <thead>\n",
       "    <tr style=\"text-align: right;\">\n",
       "      <th></th>\n",
       "      <th>PassengerId</th>\n",
       "      <th>Survived</th>\n",
       "      <th>Pclass</th>\n",
       "      <th>Name</th>\n",
       "      <th>Sex</th>\n",
       "      <th>Age</th>\n",
       "      <th>SibSp</th>\n",
       "      <th>Parch</th>\n",
       "      <th>Ticket</th>\n",
       "      <th>Fare</th>\n",
       "      <th>Cabin</th>\n",
       "      <th>Embarked</th>\n",
       "    </tr>\n",
       "  </thead>\n",
       "  <tbody>\n",
       "    <tr>\n",
       "      <th>0</th>\n",
       "      <td>1</td>\n",
       "      <td>0</td>\n",
       "      <td>3</td>\n",
       "      <td>Braund, Mr. Owen Harris</td>\n",
       "      <td>male</td>\n",
       "      <td>22.0</td>\n",
       "      <td>1</td>\n",
       "      <td>0</td>\n",
       "      <td>A/5 21171</td>\n",
       "      <td>7.2500</td>\n",
       "      <td>NaN</td>\n",
       "      <td>S</td>\n",
       "    </tr>\n",
       "    <tr>\n",
       "      <th>1</th>\n",
       "      <td>2</td>\n",
       "      <td>1</td>\n",
       "      <td>1</td>\n",
       "      <td>Cumings, Mrs. John Bradley (Florence Briggs Th...</td>\n",
       "      <td>female</td>\n",
       "      <td>38.0</td>\n",
       "      <td>1</td>\n",
       "      <td>0</td>\n",
       "      <td>PC 17599</td>\n",
       "      <td>71.2833</td>\n",
       "      <td>C85</td>\n",
       "      <td>C</td>\n",
       "    </tr>\n",
       "    <tr>\n",
       "      <th>2</th>\n",
       "      <td>3</td>\n",
       "      <td>1</td>\n",
       "      <td>3</td>\n",
       "      <td>Heikkinen, Miss. Laina</td>\n",
       "      <td>female</td>\n",
       "      <td>26.0</td>\n",
       "      <td>0</td>\n",
       "      <td>0</td>\n",
       "      <td>STON/O2. 3101282</td>\n",
       "      <td>7.9250</td>\n",
       "      <td>NaN</td>\n",
       "      <td>S</td>\n",
       "    </tr>\n",
       "    <tr>\n",
       "      <th>3</th>\n",
       "      <td>4</td>\n",
       "      <td>1</td>\n",
       "      <td>1</td>\n",
       "      <td>Futrelle, Mrs. Jacques Heath (Lily May Peel)</td>\n",
       "      <td>female</td>\n",
       "      <td>35.0</td>\n",
       "      <td>1</td>\n",
       "      <td>0</td>\n",
       "      <td>113803</td>\n",
       "      <td>53.1000</td>\n",
       "      <td>C123</td>\n",
       "      <td>S</td>\n",
       "    </tr>\n",
       "    <tr>\n",
       "      <th>4</th>\n",
       "      <td>5</td>\n",
       "      <td>0</td>\n",
       "      <td>3</td>\n",
       "      <td>Allen, Mr. William Henry</td>\n",
       "      <td>male</td>\n",
       "      <td>35.0</td>\n",
       "      <td>0</td>\n",
       "      <td>0</td>\n",
       "      <td>373450</td>\n",
       "      <td>8.0500</td>\n",
       "      <td>NaN</td>\n",
       "      <td>S</td>\n",
       "    </tr>\n",
       "  </tbody>\n",
       "</table>\n",
       "</div>"
      ],
      "text/plain": [
       "   PassengerId  Survived  Pclass  \\\n",
       "0            1         0       3   \n",
       "1            2         1       1   \n",
       "2            3         1       3   \n",
       "3            4         1       1   \n",
       "4            5         0       3   \n",
       "\n",
       "                                                Name     Sex   Age  SibSp  \\\n",
       "0                            Braund, Mr. Owen Harris    male  22.0      1   \n",
       "1  Cumings, Mrs. John Bradley (Florence Briggs Th...  female  38.0      1   \n",
       "2                             Heikkinen, Miss. Laina  female  26.0      0   \n",
       "3       Futrelle, Mrs. Jacques Heath (Lily May Peel)  female  35.0      1   \n",
       "4                           Allen, Mr. William Henry    male  35.0      0   \n",
       "\n",
       "   Parch            Ticket     Fare Cabin Embarked  \n",
       "0      0         A/5 21171   7.2500   NaN        S  \n",
       "1      0          PC 17599  71.2833   C85        C  \n",
       "2      0  STON/O2. 3101282   7.9250   NaN        S  \n",
       "3      0            113803  53.1000  C123        S  \n",
       "4      0            373450   8.0500   NaN        S  "
      ]
     },
     "execution_count": 108,
     "metadata": {},
     "output_type": "execute_result"
    }
   ],
   "source": [
    "# First 5 rows of the dataset.\n",
    "df1.head()"
   ]
  },
  {
   "cell_type": "code",
   "execution_count": 15,
   "id": "28d25775",
   "metadata": {},
   "outputs": [
    {
     "name": "stdout",
     "output_type": "stream",
     "text": [
      "Name of all the Variables: \n",
      "Index(['PassengerId', 'Survived', 'Pclass', 'Name', 'Sex', 'Age', 'SibSp',\n",
      "       'Parch', 'Ticket', 'Fare', 'Cabin', 'Embarked'],\n",
      "      dtype='object')\n"
     ]
    }
   ],
   "source": [
    "# All the coloumns in the dataset\n",
    "print(\"Name of all the Variables: \")\n",
    "print(df1.columns)"
   ]
  },
  {
   "cell_type": "code",
   "execution_count": 10,
   "id": "6aa9aa95",
   "metadata": {},
   "outputs": [
    {
     "data": {
      "text/plain": [
       "10692"
      ]
     },
     "execution_count": 10,
     "metadata": {},
     "output_type": "execute_result"
    }
   ],
   "source": [
    "# Size the dataset\n",
    "df1.size"
   ]
  },
  {
   "cell_type": "code",
   "execution_count": 11,
   "id": "a1409d83",
   "metadata": {},
   "outputs": [
    {
     "data": {
      "text/plain": [
       "(891, 12)"
      ]
     },
     "execution_count": 11,
     "metadata": {},
     "output_type": "execute_result"
    }
   ],
   "source": [
    "# Shape of the Dataset\n",
    "df1.shape"
   ]
  },
  {
   "cell_type": "code",
   "execution_count": 16,
   "id": "5be73cff",
   "metadata": {},
   "outputs": [
    {
     "name": "stdout",
     "output_type": "stream",
     "text": [
      "<class 'pandas.core.frame.DataFrame'>\n",
      "RangeIndex: 891 entries, 0 to 890\n",
      "Data columns (total 12 columns):\n",
      " #   Column       Non-Null Count  Dtype  \n",
      "---  ------       --------------  -----  \n",
      " 0   PassengerId  891 non-null    int64  \n",
      " 1   Survived     891 non-null    int64  \n",
      " 2   Pclass       891 non-null    int64  \n",
      " 3   Name         891 non-null    object \n",
      " 4   Sex          891 non-null    object \n",
      " 5   Age          714 non-null    float64\n",
      " 6   SibSp        891 non-null    int64  \n",
      " 7   Parch        891 non-null    int64  \n",
      " 8   Ticket       891 non-null    object \n",
      " 9   Fare         891 non-null    float64\n",
      " 10  Cabin        204 non-null    object \n",
      " 11  Embarked     889 non-null    object \n",
      "dtypes: float64(2), int64(5), object(5)\n",
      "memory usage: 83.7+ KB\n"
     ]
    }
   ],
   "source": [
    "# Basic Information in the Dataset\n",
    "df1.info()"
   ]
  },
  {
   "cell_type": "markdown",
   "id": "be0d0145",
   "metadata": {},
   "source": [
    "<b>This dataset contains the following columns :</b>\n",
    "\n",
    "1. PassengerId: Unique identifier for each passenger\n",
    "2. Survived: Survival indicator (0 = No, 1 = Yes)\n",
    "3. Pclass: Ticket class (1 = 1st, 2 = 2nd, 3 = 3rd)\n",
    "4. Name: Passenger name\n",
    "5. Sex: Gender\n",
    "6. Age: Age\n",
    "7. SibSp: Number of siblings/spouses aboard\n",
    "8. Parch: Number of parents/children aboard\n",
    "9. Ticket: Ticket number\n",
    "10. Fare: Passenger fare\n",
    "11. Cabin: Cabin number\n",
    "12. Embarked: Port of embarkation (C = Cherbourg, Q = Queenstown, S = Southampton)"
   ]
  },
  {
   "cell_type": "code",
   "execution_count": 12,
   "id": "34661c51",
   "metadata": {},
   "outputs": [
    {
     "name": "stdout",
     "output_type": "stream",
     "text": [
      "Percecntage of survivors: 31.85%\n"
     ]
    }
   ],
   "source": [
    "Total_death= 1502\n",
    "Total_passenger= 2204\n",
    "print(\"Percecntage of survivors: {:.2%}\".format((Total_passenger-Total_death)/Total_passenger))"
   ]
  },
  {
   "cell_type": "code",
   "execution_count": 13,
   "id": "823afb3f",
   "metadata": {},
   "outputs": [
    {
     "name": "stdout",
     "output_type": "stream",
     "text": [
      "Sample Size:  40.43%\n"
     ]
    }
   ],
   "source": [
    "# Sample Size\n",
    "Sample_size=  \"{:.2%}\".format((df1.shape[0]/2204))\n",
    "print(\"Sample Size: \",Sample_size)"
   ]
  },
  {
   "cell_type": "code",
   "execution_count": 14,
   "id": "bcdc01c9",
   "metadata": {},
   "outputs": [
    {
     "name": "stdout",
     "output_type": "stream",
     "text": [
      "Percentage of Survivor in Sample Data: 38.38%\n"
     ]
    }
   ],
   "source": [
    "Survived_sample=(df1['Survived']==1).sum()\n",
    "print(\"Percentage of Survivor in Sample Data: {:.2%}\".format((Survived_sample/df1.shape[0])))"
   ]
  },
  {
   "cell_type": "markdown",
   "id": "4039c447",
   "metadata": {},
   "source": [
    "<b>The overall survival rate for the Titanic disaster was 31.85%. \n",
    "Our sample dataset, which includes 891 records and 12 variables, represents 40.43% of the total passengers aboard. The survival rate in this sample is 38.83%, indicating that the sample closely mirrors the survival rate of the entire dataset.</b>"
   ]
  },
  {
   "cell_type": "code",
   "execution_count": 17,
   "id": "288635b8",
   "metadata": {},
   "outputs": [
    {
     "data": {
      "text/html": [
       "<div>\n",
       "<style scoped>\n",
       "    .dataframe tbody tr th:only-of-type {\n",
       "        vertical-align: middle;\n",
       "    }\n",
       "\n",
       "    .dataframe tbody tr th {\n",
       "        vertical-align: top;\n",
       "    }\n",
       "\n",
       "    .dataframe thead th {\n",
       "        text-align: right;\n",
       "    }\n",
       "</style>\n",
       "<table border=\"1\" class=\"dataframe\">\n",
       "  <thead>\n",
       "    <tr style=\"text-align: right;\">\n",
       "      <th></th>\n",
       "      <th>count</th>\n",
       "      <th>mean</th>\n",
       "      <th>std</th>\n",
       "      <th>min</th>\n",
       "      <th>25%</th>\n",
       "      <th>50%</th>\n",
       "      <th>75%</th>\n",
       "      <th>max</th>\n",
       "    </tr>\n",
       "  </thead>\n",
       "  <tbody>\n",
       "    <tr>\n",
       "      <th>PassengerId</th>\n",
       "      <td>891.0</td>\n",
       "      <td>446.000000</td>\n",
       "      <td>257.353842</td>\n",
       "      <td>1.00</td>\n",
       "      <td>223.5000</td>\n",
       "      <td>446.0000</td>\n",
       "      <td>668.5</td>\n",
       "      <td>891.0000</td>\n",
       "    </tr>\n",
       "    <tr>\n",
       "      <th>Survived</th>\n",
       "      <td>891.0</td>\n",
       "      <td>0.383838</td>\n",
       "      <td>0.486592</td>\n",
       "      <td>0.00</td>\n",
       "      <td>0.0000</td>\n",
       "      <td>0.0000</td>\n",
       "      <td>1.0</td>\n",
       "      <td>1.0000</td>\n",
       "    </tr>\n",
       "    <tr>\n",
       "      <th>Pclass</th>\n",
       "      <td>891.0</td>\n",
       "      <td>2.308642</td>\n",
       "      <td>0.836071</td>\n",
       "      <td>1.00</td>\n",
       "      <td>2.0000</td>\n",
       "      <td>3.0000</td>\n",
       "      <td>3.0</td>\n",
       "      <td>3.0000</td>\n",
       "    </tr>\n",
       "    <tr>\n",
       "      <th>Age</th>\n",
       "      <td>714.0</td>\n",
       "      <td>29.699118</td>\n",
       "      <td>14.526497</td>\n",
       "      <td>0.42</td>\n",
       "      <td>20.1250</td>\n",
       "      <td>28.0000</td>\n",
       "      <td>38.0</td>\n",
       "      <td>80.0000</td>\n",
       "    </tr>\n",
       "    <tr>\n",
       "      <th>SibSp</th>\n",
       "      <td>891.0</td>\n",
       "      <td>0.523008</td>\n",
       "      <td>1.102743</td>\n",
       "      <td>0.00</td>\n",
       "      <td>0.0000</td>\n",
       "      <td>0.0000</td>\n",
       "      <td>1.0</td>\n",
       "      <td>8.0000</td>\n",
       "    </tr>\n",
       "    <tr>\n",
       "      <th>Parch</th>\n",
       "      <td>891.0</td>\n",
       "      <td>0.381594</td>\n",
       "      <td>0.806057</td>\n",
       "      <td>0.00</td>\n",
       "      <td>0.0000</td>\n",
       "      <td>0.0000</td>\n",
       "      <td>0.0</td>\n",
       "      <td>6.0000</td>\n",
       "    </tr>\n",
       "    <tr>\n",
       "      <th>Fare</th>\n",
       "      <td>891.0</td>\n",
       "      <td>32.204208</td>\n",
       "      <td>49.693429</td>\n",
       "      <td>0.00</td>\n",
       "      <td>7.9104</td>\n",
       "      <td>14.4542</td>\n",
       "      <td>31.0</td>\n",
       "      <td>512.3292</td>\n",
       "    </tr>\n",
       "  </tbody>\n",
       "</table>\n",
       "</div>"
      ],
      "text/plain": [
       "             count        mean         std   min       25%       50%    75%  \\\n",
       "PassengerId  891.0  446.000000  257.353842  1.00  223.5000  446.0000  668.5   \n",
       "Survived     891.0    0.383838    0.486592  0.00    0.0000    0.0000    1.0   \n",
       "Pclass       891.0    2.308642    0.836071  1.00    2.0000    3.0000    3.0   \n",
       "Age          714.0   29.699118   14.526497  0.42   20.1250   28.0000   38.0   \n",
       "SibSp        891.0    0.523008    1.102743  0.00    0.0000    0.0000    1.0   \n",
       "Parch        891.0    0.381594    0.806057  0.00    0.0000    0.0000    0.0   \n",
       "Fare         891.0   32.204208   49.693429  0.00    7.9104   14.4542   31.0   \n",
       "\n",
       "                  max  \n",
       "PassengerId  891.0000  \n",
       "Survived       1.0000  \n",
       "Pclass         3.0000  \n",
       "Age           80.0000  \n",
       "SibSp          8.0000  \n",
       "Parch          6.0000  \n",
       "Fare         512.3292  "
      ]
     },
     "execution_count": 17,
     "metadata": {},
     "output_type": "execute_result"
    }
   ],
   "source": [
    "# Discription of all the numeric variable\n",
    "df1.describe().T"
   ]
  },
  {
   "cell_type": "code",
   "execution_count": 18,
   "id": "4bf7336d",
   "metadata": {},
   "outputs": [
    {
     "data": {
      "text/html": [
       "<div>\n",
       "<style scoped>\n",
       "    .dataframe tbody tr th:only-of-type {\n",
       "        vertical-align: middle;\n",
       "    }\n",
       "\n",
       "    .dataframe tbody tr th {\n",
       "        vertical-align: top;\n",
       "    }\n",
       "\n",
       "    .dataframe thead th {\n",
       "        text-align: right;\n",
       "    }\n",
       "</style>\n",
       "<table border=\"1\" class=\"dataframe\">\n",
       "  <thead>\n",
       "    <tr style=\"text-align: right;\">\n",
       "      <th></th>\n",
       "      <th>count</th>\n",
       "      <th>unique</th>\n",
       "      <th>top</th>\n",
       "      <th>freq</th>\n",
       "    </tr>\n",
       "  </thead>\n",
       "  <tbody>\n",
       "    <tr>\n",
       "      <th>Name</th>\n",
       "      <td>891</td>\n",
       "      <td>891</td>\n",
       "      <td>Braund, Mr. Owen Harris</td>\n",
       "      <td>1</td>\n",
       "    </tr>\n",
       "    <tr>\n",
       "      <th>Sex</th>\n",
       "      <td>891</td>\n",
       "      <td>2</td>\n",
       "      <td>male</td>\n",
       "      <td>577</td>\n",
       "    </tr>\n",
       "    <tr>\n",
       "      <th>Ticket</th>\n",
       "      <td>891</td>\n",
       "      <td>681</td>\n",
       "      <td>347082</td>\n",
       "      <td>7</td>\n",
       "    </tr>\n",
       "    <tr>\n",
       "      <th>Cabin</th>\n",
       "      <td>204</td>\n",
       "      <td>147</td>\n",
       "      <td>B96 B98</td>\n",
       "      <td>4</td>\n",
       "    </tr>\n",
       "    <tr>\n",
       "      <th>Embarked</th>\n",
       "      <td>889</td>\n",
       "      <td>3</td>\n",
       "      <td>S</td>\n",
       "      <td>644</td>\n",
       "    </tr>\n",
       "  </tbody>\n",
       "</table>\n",
       "</div>"
      ],
      "text/plain": [
       "         count unique                      top freq\n",
       "Name       891    891  Braund, Mr. Owen Harris    1\n",
       "Sex        891      2                     male  577\n",
       "Ticket     891    681                   347082    7\n",
       "Cabin      204    147                  B96 B98    4\n",
       "Embarked   889      3                        S  644"
      ]
     },
     "execution_count": 18,
     "metadata": {},
     "output_type": "execute_result"
    }
   ],
   "source": [
    "df1.describe(include=[np.object, 'category']).T"
   ]
  },
  {
   "cell_type": "markdown",
   "id": "821cd24a",
   "metadata": {},
   "source": [
    "## 1.2 Data Cleaning and Preprocessing\n",
    "To ensure the data is clean and ready for modeling, we need to handle duplicate values, missing values and encode categorical variables.\n"
   ]
  },
  {
   "cell_type": "markdown",
   "id": "b9a1fc60",
   "metadata": {},
   "source": [
    "### 1.2.1 Checking for Duplicates : "
   ]
  },
  {
   "cell_type": "code",
   "execution_count": 22,
   "id": "feaf8561",
   "metadata": {},
   "outputs": [
    {
     "name": "stdout",
     "output_type": "stream",
     "text": [
      "Number of Duplicates in Dataset:\n",
      "0\n"
     ]
    }
   ],
   "source": [
    "duplicates = df1.duplicated()\n",
    "num_duplicates = duplicates.sum()\n",
    "print(\"Number of Duplicates in Dataset:\")\n",
    "print(num_duplicates)"
   ]
  },
  {
   "cell_type": "markdown",
   "id": "866024b8",
   "metadata": {},
   "source": [
    "### 1.2.2 Removing Irrlevant Variables :"
   ]
  },
  {
   "cell_type": "code",
   "execution_count": 23,
   "id": "7073193b",
   "metadata": {},
   "outputs": [],
   "source": [
    "df1.drop([\"PassengerId\",\"Name\",\"Cabin\",\"Ticket\"],inplace=True,axis=1)"
   ]
  },
  {
   "cell_type": "markdown",
   "id": "1d909164",
   "metadata": {},
   "source": [
    "### 1.2.3 Missing Value Handling :"
   ]
  },
  {
   "cell_type": "code",
   "execution_count": 24,
   "id": "eec35699",
   "metadata": {},
   "outputs": [
    {
     "data": {
      "text/plain": [
       "Survived      0\n",
       "Pclass        0\n",
       "Sex           0\n",
       "Age         177\n",
       "SibSp         0\n",
       "Parch         0\n",
       "Fare          0\n",
       "Embarked      2\n",
       "dtype: int64"
      ]
     },
     "execution_count": 24,
     "metadata": {},
     "output_type": "execute_result"
    }
   ],
   "source": [
    "# checking for the null values in the dataset\n",
    "df1.isnull().sum()"
   ]
  },
  {
   "cell_type": "markdown",
   "id": "403270b8",
   "metadata": {},
   "source": [
    "### Observation : \n",
    "From the output, we can see that the columns Age and Embarked have missing values.\n",
    "\n",
    "We will fill missing Age values with the mean age,and drop rows which has missing value in variable Embarked."
   ]
  },
  {
   "cell_type": "code",
   "execution_count": 25,
   "id": "a14719c5",
   "metadata": {},
   "outputs": [],
   "source": [
    "# Filling the null value with mean value of ages.\n",
    "df1['Age']= df1['Age'].fillna(df1['Age'].mean())"
   ]
  },
  {
   "cell_type": "code",
   "execution_count": 26,
   "id": "ba8fd35f",
   "metadata": {},
   "outputs": [],
   "source": [
    "# Removing the observation with null values for the rest of the dataset\n",
    "df1.dropna(axis=0,inplace=True)"
   ]
  },
  {
   "cell_type": "code",
   "execution_count": 27,
   "id": "06e6222b",
   "metadata": {},
   "outputs": [
    {
     "data": {
      "text/plain": [
       "Survived    0\n",
       "Pclass      0\n",
       "Sex         0\n",
       "Age         0\n",
       "SibSp       0\n",
       "Parch       0\n",
       "Fare        0\n",
       "Embarked    0\n",
       "dtype: int64"
      ]
     },
     "execution_count": 27,
     "metadata": {},
     "output_type": "execute_result"
    }
   ],
   "source": [
    "df1.isnull().sum()"
   ]
  },
  {
   "cell_type": "code",
   "execution_count": 28,
   "id": "2ed758fb",
   "metadata": {},
   "outputs": [],
   "source": [
    "# Imputing the value in 'Embarked' variable:\n",
    "df1['Embarked']=df1[\"Embarked\"].replace([\"C\",\"S\",\"Q\"],[\"Cherbourg\",\"Southampton\",\"Queenstown\"])"
   ]
  },
  {
   "cell_type": "code",
   "execution_count": 29,
   "id": "f6cac7f6",
   "metadata": {},
   "outputs": [
    {
     "data": {
      "text/html": [
       "<div>\n",
       "<style scoped>\n",
       "    .dataframe tbody tr th:only-of-type {\n",
       "        vertical-align: middle;\n",
       "    }\n",
       "\n",
       "    .dataframe tbody tr th {\n",
       "        vertical-align: top;\n",
       "    }\n",
       "\n",
       "    .dataframe thead th {\n",
       "        text-align: right;\n",
       "    }\n",
       "</style>\n",
       "<table border=\"1\" class=\"dataframe\">\n",
       "  <thead>\n",
       "    <tr style=\"text-align: right;\">\n",
       "      <th></th>\n",
       "      <th>Survived</th>\n",
       "      <th>Pclass</th>\n",
       "      <th>Sex</th>\n",
       "      <th>Age</th>\n",
       "      <th>SibSp</th>\n",
       "      <th>Parch</th>\n",
       "      <th>Fare</th>\n",
       "      <th>Embarked</th>\n",
       "    </tr>\n",
       "  </thead>\n",
       "  <tbody>\n",
       "    <tr>\n",
       "      <th>0</th>\n",
       "      <td>0</td>\n",
       "      <td>3</td>\n",
       "      <td>male</td>\n",
       "      <td>22.000000</td>\n",
       "      <td>1</td>\n",
       "      <td>0</td>\n",
       "      <td>7.2500</td>\n",
       "      <td>Southampton</td>\n",
       "    </tr>\n",
       "    <tr>\n",
       "      <th>1</th>\n",
       "      <td>1</td>\n",
       "      <td>1</td>\n",
       "      <td>female</td>\n",
       "      <td>38.000000</td>\n",
       "      <td>1</td>\n",
       "      <td>0</td>\n",
       "      <td>71.2833</td>\n",
       "      <td>Cherbourg</td>\n",
       "    </tr>\n",
       "    <tr>\n",
       "      <th>2</th>\n",
       "      <td>1</td>\n",
       "      <td>3</td>\n",
       "      <td>female</td>\n",
       "      <td>26.000000</td>\n",
       "      <td>0</td>\n",
       "      <td>0</td>\n",
       "      <td>7.9250</td>\n",
       "      <td>Southampton</td>\n",
       "    </tr>\n",
       "    <tr>\n",
       "      <th>3</th>\n",
       "      <td>1</td>\n",
       "      <td>1</td>\n",
       "      <td>female</td>\n",
       "      <td>35.000000</td>\n",
       "      <td>1</td>\n",
       "      <td>0</td>\n",
       "      <td>53.1000</td>\n",
       "      <td>Southampton</td>\n",
       "    </tr>\n",
       "    <tr>\n",
       "      <th>4</th>\n",
       "      <td>0</td>\n",
       "      <td>3</td>\n",
       "      <td>male</td>\n",
       "      <td>35.000000</td>\n",
       "      <td>0</td>\n",
       "      <td>0</td>\n",
       "      <td>8.0500</td>\n",
       "      <td>Southampton</td>\n",
       "    </tr>\n",
       "    <tr>\n",
       "      <th>5</th>\n",
       "      <td>0</td>\n",
       "      <td>3</td>\n",
       "      <td>male</td>\n",
       "      <td>29.699118</td>\n",
       "      <td>0</td>\n",
       "      <td>0</td>\n",
       "      <td>8.4583</td>\n",
       "      <td>Queenstown</td>\n",
       "    </tr>\n",
       "    <tr>\n",
       "      <th>6</th>\n",
       "      <td>0</td>\n",
       "      <td>1</td>\n",
       "      <td>male</td>\n",
       "      <td>54.000000</td>\n",
       "      <td>0</td>\n",
       "      <td>0</td>\n",
       "      <td>51.8625</td>\n",
       "      <td>Southampton</td>\n",
       "    </tr>\n",
       "    <tr>\n",
       "      <th>7</th>\n",
       "      <td>0</td>\n",
       "      <td>3</td>\n",
       "      <td>male</td>\n",
       "      <td>2.000000</td>\n",
       "      <td>3</td>\n",
       "      <td>1</td>\n",
       "      <td>21.0750</td>\n",
       "      <td>Southampton</td>\n",
       "    </tr>\n",
       "    <tr>\n",
       "      <th>8</th>\n",
       "      <td>1</td>\n",
       "      <td>3</td>\n",
       "      <td>female</td>\n",
       "      <td>27.000000</td>\n",
       "      <td>0</td>\n",
       "      <td>2</td>\n",
       "      <td>11.1333</td>\n",
       "      <td>Southampton</td>\n",
       "    </tr>\n",
       "    <tr>\n",
       "      <th>9</th>\n",
       "      <td>1</td>\n",
       "      <td>2</td>\n",
       "      <td>female</td>\n",
       "      <td>14.000000</td>\n",
       "      <td>1</td>\n",
       "      <td>0</td>\n",
       "      <td>30.0708</td>\n",
       "      <td>Cherbourg</td>\n",
       "    </tr>\n",
       "  </tbody>\n",
       "</table>\n",
       "</div>"
      ],
      "text/plain": [
       "   Survived  Pclass     Sex        Age  SibSp  Parch     Fare     Embarked\n",
       "0         0       3    male  22.000000      1      0   7.2500  Southampton\n",
       "1         1       1  female  38.000000      1      0  71.2833    Cherbourg\n",
       "2         1       3  female  26.000000      0      0   7.9250  Southampton\n",
       "3         1       1  female  35.000000      1      0  53.1000  Southampton\n",
       "4         0       3    male  35.000000      0      0   8.0500  Southampton\n",
       "5         0       3    male  29.699118      0      0   8.4583   Queenstown\n",
       "6         0       1    male  54.000000      0      0  51.8625  Southampton\n",
       "7         0       3    male   2.000000      3      1  21.0750  Southampton\n",
       "8         1       3  female  27.000000      0      2  11.1333  Southampton\n",
       "9         1       2  female  14.000000      1      0  30.0708    Cherbourg"
      ]
     },
     "execution_count": 29,
     "metadata": {},
     "output_type": "execute_result"
    }
   ],
   "source": [
    "df1.head(10)"
   ]
  },
  {
   "cell_type": "markdown",
   "id": "946fe7a8",
   "metadata": {},
   "source": [
    "## 1.3 Analysis by Visualisation :\n",
    "We will perform EDA through visualisation to understand the distribution of the data and identify important features."
   ]
  },
  {
   "cell_type": "code",
   "execution_count": null,
   "id": "68921a27",
   "metadata": {},
   "outputs": [],
   "source": [
    "import matplotlib.pyplot as plt"
   ]
  },
  {
   "cell_type": "code",
   "execution_count": 30,
   "id": "dace7701",
   "metadata": {},
   "outputs": [
    {
     "data": {
      "image/png": "[encoded data removed]",
      "text/plain": [
       "<Figure size 1080x576 with 1 Axes>"
      ]
     },
     "metadata": {},
     "output_type": "display_data"
    }
   ],
   "source": [
    "# Bar Plot for Survived passenger:\n",
    "plt.figure(figsize=(15, 8))\n",
    "sns.countplot(x=\"Survived\",data=df1,palette=\"coolwarm\")\n",
    "plt.show()"
   ]
  },
  {
   "cell_type": "code",
   "execution_count": 109,
   "id": "094e31aa",
   "metadata": {},
   "outputs": [
    {
     "data": {
      "image/png": "[encoded data removed]",
      "text/plain": [
       "<Figure size 1080x576 with 2 Axes>"
      ]
     },
     "metadata": {},
     "output_type": "display_data"
    }
   ],
   "source": [
    "# Histogram plot for variable 'Age' and 'Fare' to visalise these feature's distribution.\n",
    "plt.figure(figsize=(15,8))\n",
    "for i,col in enumerate(['Age','Fare']):\n",
    "    plt.subplot(2,1,i+1)\n",
    "    sns.histplot(data=df1,x=col,kde=True,color=\"ORANGE\")"
   ]
  },
  {
   "cell_type": "code",
   "execution_count": 32,
   "id": "d2de98d8",
   "metadata": {},
   "outputs": [
    {
     "data": {
      "image/png": "[encoded data removed]",
      "text/plain": [
       "<Figure size 1080x864 with 4 Axes>"
      ]
     },
     "metadata": {},
     "output_type": "display_data"
    }
   ],
   "source": [
    "# Pie Chart to represt proportion proportion of categories in different variables\n",
    "plt.figure(figsize=(15, 12))\n",
    "for i, col in enumerate(['Survived', 'Sex', 'Embarked', 'Pclass']):\n",
    "    plt.subplot(1, 4, i + 1)\n",
    "    x = df1[col].value_counts().reset_index()\n",
    "    x.columns = [col, 'count']  # Renaming columns for clarity\n",
    "    plt.title(f\"{col}\")\n",
    "    plt.pie(x['count'], labels=x[col], autopct=\"%0.1f%%\")\n",
    "plt.tight_layout()  .\n",
    "plt.show()"
   ]
  },
  {
   "cell_type": "code",
   "execution_count": 33,
   "id": "cf3df83a",
   "metadata": {
    "scrolled": true
   },
   "outputs": [
    {
     "data": {
      "image/png": "[encoded data removed]",
      "text/plain": [
       "<Figure size 1080x576 with 1 Axes>"
      ]
     },
     "metadata": {},
     "output_type": "display_data"
    }
   ],
   "source": [
    "# Servival based on sex.\n",
    "plt.figure(figsize=(15, 8))\n",
    "sns.countplot(x=\"Survived\",data=df1, hue=\"Sex\",palette=\"coolwarm\")\n",
    "plt.show()"
   ]
  },
  {
   "cell_type": "markdown",
   "id": "2e66b6cd",
   "metadata": {},
   "source": [
    "<b> The plot above shows that among the survivors, there were more females than males, while in the non-survivors, females were significantly fewer compared to males. This indicates that during the evacuation and rescue operations, females were given priority, which aligns with the established procedures.</b>"
   ]
  },
  {
   "cell_type": "code",
   "execution_count": 34,
   "id": "da3a1ccb",
   "metadata": {},
   "outputs": [
    {
     "data": {
      "image/png": "[encoded data removed]",
      "text/plain": [
       "<Figure size 1080x576 with 1 Axes>"
      ]
     },
     "metadata": {},
     "output_type": "display_data"
    }
   ],
   "source": [
    "plt.figure(figsize=(15, 8))\n",
    "sns.countplot(x=\"Pclass\",data=df1, hue=\"Survived\",palette=\"coolwarm\")\n",
    "plt.show()"
   ]
  },
  {
   "cell_type": "markdown",
   "id": "6f073ac1",
   "metadata": {},
   "source": [
    "<b> The plot above illustrates that passengers with third-class tickets experienced the highest fatality rate. This is because there were more third-class passengers compared to those with tickets from the other two classes. However, the survival rate does not vary significantly by ticket class, as a similar number of passengers were saved across all classes.</b>"
   ]
  },
  {
   "cell_type": "code",
   "execution_count": 35,
   "id": "c9d503f2",
   "metadata": {},
   "outputs": [
    {
     "data": {
      "image/png": "[encoded data removed]",
      "text/plain": [
       "<Figure size 1080x576 with 1 Axes>"
      ]
     },
     "metadata": {},
     "output_type": "display_data"
    }
   ],
   "source": [
    "plt.figure(figsize=(15, 8))\n",
    "sns.countplot(x=\"Embarked\",data=df1, hue=\"Survived\",palette=\"coolwarm\")\n",
    "plt.show()"
   ]
  },
  {
   "cell_type": "code",
   "execution_count": 36,
   "id": "d8043962",
   "metadata": {},
   "outputs": [
    {
     "data": {
      "image/png": "[encoded data removed]",
      "text/plain": [
       "<Figure size 1080x576 with 1 Axes>"
      ]
     },
     "metadata": {},
     "output_type": "display_data"
    }
   ],
   "source": [
    "plt.figure(figsize=(15, 8))\n",
    "sns.countplot(x=\"Embarked\",data=df1, hue=\"Pclass\",palette=\"coolwarm\")\n",
    "plt.show()"
   ]
  },
  {
   "cell_type": "markdown",
   "id": "fd1c65ae",
   "metadata": {},
   "source": [
    "<b> Most of the passengers on the Titanic boarded the ship from Southampton. </b>"
   ]
  },
  {
   "cell_type": "code",
   "execution_count": 37,
   "id": "e1fca758",
   "metadata": {},
   "outputs": [
    {
     "data": {
      "text/plain": [
       "Text(0.5, 0, 'No. of siblings / spouses')"
      ]
     },
     "execution_count": 37,
     "metadata": {},
     "output_type": "execute_result"
    },
    {
     "data": {
      "image/png": "[encoded data removed]",
      "text/plain": [
       "<Figure size 1080x576 with 1 Axes>"
      ]
     },
     "metadata": {},
     "output_type": "display_data"
    }
   ],
   "source": [
    "plt.figure(figsize=(15,8))\n",
    "sns.countplot(data=df1,x=\"SibSp\",hue='Survived',palette='coolwarm')\n",
    "plt.title(\"No. of siblings / spouses aboard the Titanic for a passenger\")\n",
    "plt.xlabel(\"No. of siblings / spouses\")"
   ]
  },
  {
   "cell_type": "code",
   "execution_count": 38,
   "id": "06d86b35",
   "metadata": {},
   "outputs": [
    {
     "data": {
      "image/png": "[encoded data removed]",
      "text/plain": [
       "<Figure size 1080x576 with 1 Axes>"
      ]
     },
     "metadata": {},
     "output_type": "display_data"
    }
   ],
   "source": [
    "plt.figure(figsize=(15,8))\n",
    "sns.countplot(x=\"Parch\",data=df1,hue='Survived',palette='coolwarm')\n",
    "plt.title(\"No. of parents / children aboard the Titanic for a passenger\")\n",
    "plt.xlabel(\"No. of parents / children\")\n",
    "\n",
    "plt.show()"
   ]
  },
  {
   "cell_type": "markdown",
   "id": "5250475f",
   "metadata": {},
   "source": [
    "### Dummies variable Creation :"
   ]
  },
  {
   "cell_type": "code",
   "execution_count": 40,
   "id": "d68b521c",
   "metadata": {},
   "outputs": [
    {
     "data": {
      "text/html": [
       "<div>\n",
       "<style scoped>\n",
       "    .dataframe tbody tr th:only-of-type {\n",
       "        vertical-align: middle;\n",
       "    }\n",
       "\n",
       "    .dataframe tbody tr th {\n",
       "        vertical-align: top;\n",
       "    }\n",
       "\n",
       "    .dataframe thead th {\n",
       "        text-align: right;\n",
       "    }\n",
       "</style>\n",
       "<table border=\"1\" class=\"dataframe\">\n",
       "  <thead>\n",
       "    <tr style=\"text-align: right;\">\n",
       "      <th></th>\n",
       "      <th>Survived</th>\n",
       "      <th>Sex</th>\n",
       "      <th>Age</th>\n",
       "      <th>SibSp</th>\n",
       "      <th>Parch</th>\n",
       "      <th>Fare</th>\n",
       "      <th>Embarked_Queenstown</th>\n",
       "      <th>Embarked_Southampton</th>\n",
       "      <th>Pclass_2</th>\n",
       "      <th>Pclass_3</th>\n",
       "    </tr>\n",
       "  </thead>\n",
       "  <tbody>\n",
       "    <tr>\n",
       "      <th>0</th>\n",
       "      <td>0</td>\n",
       "      <td>male</td>\n",
       "      <td>22.0</td>\n",
       "      <td>1</td>\n",
       "      <td>0</td>\n",
       "      <td>7.2500</td>\n",
       "      <td>0</td>\n",
       "      <td>1</td>\n",
       "      <td>0</td>\n",
       "      <td>1</td>\n",
       "    </tr>\n",
       "    <tr>\n",
       "      <th>1</th>\n",
       "      <td>1</td>\n",
       "      <td>female</td>\n",
       "      <td>38.0</td>\n",
       "      <td>1</td>\n",
       "      <td>0</td>\n",
       "      <td>71.2833</td>\n",
       "      <td>0</td>\n",
       "      <td>0</td>\n",
       "      <td>0</td>\n",
       "      <td>0</td>\n",
       "    </tr>\n",
       "    <tr>\n",
       "      <th>2</th>\n",
       "      <td>1</td>\n",
       "      <td>female</td>\n",
       "      <td>26.0</td>\n",
       "      <td>0</td>\n",
       "      <td>0</td>\n",
       "      <td>7.9250</td>\n",
       "      <td>0</td>\n",
       "      <td>1</td>\n",
       "      <td>0</td>\n",
       "      <td>1</td>\n",
       "    </tr>\n",
       "    <tr>\n",
       "      <th>3</th>\n",
       "      <td>1</td>\n",
       "      <td>female</td>\n",
       "      <td>35.0</td>\n",
       "      <td>1</td>\n",
       "      <td>0</td>\n",
       "      <td>53.1000</td>\n",
       "      <td>0</td>\n",
       "      <td>1</td>\n",
       "      <td>0</td>\n",
       "      <td>0</td>\n",
       "    </tr>\n",
       "    <tr>\n",
       "      <th>4</th>\n",
       "      <td>0</td>\n",
       "      <td>male</td>\n",
       "      <td>35.0</td>\n",
       "      <td>0</td>\n",
       "      <td>0</td>\n",
       "      <td>8.0500</td>\n",
       "      <td>0</td>\n",
       "      <td>1</td>\n",
       "      <td>0</td>\n",
       "      <td>1</td>\n",
       "    </tr>\n",
       "  </tbody>\n",
       "</table>\n",
       "</div>"
      ],
      "text/plain": [
       "   Survived     Sex   Age  SibSp  Parch     Fare  Embarked_Queenstown  \\\n",
       "0         0    male  22.0      1      0   7.2500                    0   \n",
       "1         1  female  38.0      1      0  71.2833                    0   \n",
       "2         1  female  26.0      0      0   7.9250                    0   \n",
       "3         1  female  35.0      1      0  53.1000                    0   \n",
       "4         0    male  35.0      0      0   8.0500                    0   \n",
       "\n",
       "   Embarked_Southampton  Pclass_2  Pclass_3  \n",
       "0                     1         0         1  \n",
       "1                     0         0         0  \n",
       "2                     1         0         1  \n",
       "3                     1         0         0  \n",
       "4                     1         0         1  "
      ]
     },
     "execution_count": 40,
     "metadata": {},
     "output_type": "execute_result"
    }
   ],
   "source": [
    "# Creating Dummies variable and dropping first dummies.\n",
    "df1 = pd.get_dummies(df1, columns=['Embarked', 'Pclass'], drop_first=True)\n",
    "df1.head()"
   ]
  },
  {
   "cell_type": "markdown",
   "id": "aa09b5a9",
   "metadata": {},
   "source": [
    "### Correlation Matrix :"
   ]
  },
  {
   "cell_type": "code",
   "execution_count": 41,
   "id": "ba22a410",
   "metadata": {},
   "outputs": [
    {
     "data": {
      "image/png": "[encoded data removed]",
      "text/plain": [
       "<Figure size 1080x720 with 2 Axes>"
      ]
     },
     "metadata": {},
     "output_type": "display_data"
    }
   ],
   "source": [
    "plt.figure(figsize=(15,10))\n",
    "sns.heatmap(df1.corr(),annot=True)\n",
    "plt.show()\n"
   ]
  },
  {
   "cell_type": "markdown",
   "id": "3e457969",
   "metadata": {},
   "source": [
    "<b>The Correlation Matrix graph above indicates that there is very little correlation between the independent variables, suggesting that there is no need to remove any columns based on correlation factors.</b>"
   ]
  },
  {
   "cell_type": "code",
   "execution_count": 42,
   "id": "2583c0ef",
   "metadata": {},
   "outputs": [],
   "source": [
    "# Replacing Male as 1 and female as 0.\n",
    "df1['Sex']=df1[\"Sex\"].replace(['male','female'],[0,1])"
   ]
  },
  {
   "cell_type": "markdown",
   "id": "00c25192",
   "metadata": {},
   "source": [
    "## 2. Modeling : "
   ]
  },
  {
   "cell_type": "markdown",
   "id": "96eaa615",
   "metadata": {},
   "source": [
    "###  2.1 Train-Test Split: "
   ]
  },
  {
   "cell_type": "code",
   "execution_count": 43,
   "id": "607b2a9f",
   "metadata": {},
   "outputs": [],
   "source": [
    "X= df1.drop(\"Survived\",axis=1)\n",
    "y=df1[\"Survived\"]"
   ]
  },
  {
   "cell_type": "code",
   "execution_count": 44,
   "id": "798b89b8",
   "metadata": {},
   "outputs": [],
   "source": [
    "# Split the dataset into training and testing sets\n",
    "X_train, X_test, y_train, y_test = train_test_split(X, y, test_size=0.25, random_state=111)"
   ]
  },
  {
   "cell_type": "code",
   "execution_count": 45,
   "id": "d731d60c",
   "metadata": {},
   "outputs": [
    {
     "data": {
      "text/plain": [
       "((666, 9), (666,), (223, 9), (223,))"
      ]
     },
     "execution_count": 45,
     "metadata": {},
     "output_type": "execute_result"
    }
   ],
   "source": [
    "X_train.shape, y_train.shape, X_test.shape, y_test.shape"
   ]
  },
  {
   "cell_type": "markdown",
   "id": "4120d790",
   "metadata": {},
   "source": [
    "### 2.2 Classification : "
   ]
  },
  {
   "cell_type": "code",
   "execution_count": null,
   "id": "b028602a",
   "metadata": {},
   "outputs": [],
   "source": [
    "# Importing Necessary Libraries\n",
    "from sklearn.model_selection import cross_val_score\n",
    "from sklearn.model_selection import StratifiedKFold\n",
    "from sklearn.ensemble import GradientBoostingClassifier\n",
    "from sklearn.svm import SVC\n"
   ]
  },
  {
   "cell_type": "code",
   "execution_count": null,
   "id": "4bd0e217",
   "metadata": {},
   "outputs": [],
   "source": [
    "# Importing Evalluation matrices \n",
    "from sklearn.metrics import confusion_matrix,accuracy_score,recall_score, precision_score,classification_report,f1_score"
   ]
  },
  {
   "cell_type": "markdown",
   "id": "af5d217a",
   "metadata": {},
   "source": [
    "### 2.2.1 Logistic Regression :"
   ]
  },
  {
   "cell_type": "code",
   "execution_count": 47,
   "id": "0eb62c7f",
   "metadata": {},
   "outputs": [
    {
     "data": {
      "text/plain": [
       "LogisticRegression(solver='liblinear')"
      ]
     },
     "execution_count": 47,
     "metadata": {},
     "output_type": "execute_result"
    }
   ],
   "source": [
    "# Training Logistic Regrssion Model.\n",
    "logreg_clf = LogisticRegression(solver='liblinear')\n",
    "logreg_clf.fit(X_train,y_train)"
   ]
  },
  {
   "cell_type": "code",
   "execution_count": 48,
   "id": "62c170da",
   "metadata": {},
   "outputs": [],
   "source": [
    "# Making Prediction.\n",
    "log_reg_predict=logreg_clf.predict(X_test)"
   ]
  },
  {
   "cell_type": "code",
   "execution_count": 49,
   "id": "f415967f",
   "metadata": {},
   "outputs": [
    {
     "data": {
      "text/html": [
       "<div>\n",
       "<style scoped>\n",
       "    .dataframe tbody tr th:only-of-type {\n",
       "        vertical-align: middle;\n",
       "    }\n",
       "\n",
       "    .dataframe tbody tr th {\n",
       "        vertical-align: top;\n",
       "    }\n",
       "\n",
       "    .dataframe thead th {\n",
       "        text-align: right;\n",
       "    }\n",
       "</style>\n",
       "<table border=\"1\" class=\"dataframe\">\n",
       "  <thead>\n",
       "    <tr style=\"text-align: right;\">\n",
       "      <th></th>\n",
       "      <th>Survived</th>\n",
       "      <th>Survivied Prediction</th>\n",
       "    </tr>\n",
       "  </thead>\n",
       "  <tbody>\n",
       "    <tr>\n",
       "      <th>374</th>\n",
       "      <td>0</td>\n",
       "      <td>1</td>\n",
       "    </tr>\n",
       "    <tr>\n",
       "      <th>212</th>\n",
       "      <td>0</td>\n",
       "      <td>0</td>\n",
       "    </tr>\n",
       "    <tr>\n",
       "      <th>259</th>\n",
       "      <td>1</td>\n",
       "      <td>1</td>\n",
       "    </tr>\n",
       "    <tr>\n",
       "      <th>584</th>\n",
       "      <td>0</td>\n",
       "      <td>0</td>\n",
       "    </tr>\n",
       "    <tr>\n",
       "      <th>508</th>\n",
       "      <td>0</td>\n",
       "      <td>0</td>\n",
       "    </tr>\n",
       "    <tr>\n",
       "      <th>264</th>\n",
       "      <td>0</td>\n",
       "      <td>1</td>\n",
       "    </tr>\n",
       "    <tr>\n",
       "      <th>804</th>\n",
       "      <td>1</td>\n",
       "      <td>0</td>\n",
       "    </tr>\n",
       "    <tr>\n",
       "      <th>887</th>\n",
       "      <td>1</td>\n",
       "      <td>1</td>\n",
       "    </tr>\n",
       "    <tr>\n",
       "      <th>410</th>\n",
       "      <td>0</td>\n",
       "      <td>0</td>\n",
       "    </tr>\n",
       "    <tr>\n",
       "      <th>494</th>\n",
       "      <td>0</td>\n",
       "      <td>0</td>\n",
       "    </tr>\n",
       "  </tbody>\n",
       "</table>\n",
       "</div>"
      ],
      "text/plain": [
       "     Survived  Survivied Prediction\n",
       "374         0                     1\n",
       "212         0                     0\n",
       "259         1                     1\n",
       "584         0                     0\n",
       "508         0                     0\n",
       "264         0                     1\n",
       "804         1                     0\n",
       "887         1                     1\n",
       "410         0                     0\n",
       "494         0                     0"
      ]
     },
     "execution_count": 49,
     "metadata": {},
     "output_type": "execute_result"
    }
   ],
   "source": [
    "# Comparring Test value and Predicted values.\n",
    "df1_LR= pd.DataFrame({\"Survived\":y_test,\"Survivied Prediction\":log_reg_predict})\n",
    "df1_LR.head(10)"
   ]
  },
  {
   "cell_type": "code",
   "execution_count": 51,
   "id": "2a12455b",
   "metadata": {},
   "outputs": [
    {
     "name": "stdout",
     "output_type": "stream",
     "text": [
      "[[121  15]\n",
      " [ 21  66]]\n"
     ]
    }
   ],
   "source": [
    "# Count of Actual output PREDICTED OUPUT.\n",
    "cm=confusion_matrix(y_test,log_reg_predict)\n",
    "print(cm)"
   ]
  },
  {
   "cell_type": "code",
   "execution_count": 52,
   "id": "a212c6cc",
   "metadata": {},
   "outputs": [
    {
     "data": {
      "image/png": "[encoded data removed]",
      "text/plain": [
       "<Figure size 1080x576 with 2 Axes>"
      ]
     },
     "metadata": {},
     "output_type": "display_data"
    }
   ],
   "source": [
    "# confusion matrix.\n",
    "from sklearn.metrics import  confusion_matrix\n",
    "cm = confusion_matrix(y_test, log_reg_predict)\n",
    "\n",
    "# Plot confusion matrix.\n",
    "plt.figure(figsize=(15, 8))\n",
    "sns.heatmap(cm, annot=True, fmt='d')\n",
    "plt.title('Logistic Regression Confusion Matrix')\n",
    "plt.xlabel('Predicted')\n",
    "plt.ylabel('Actual')\n",
    "plt.show()"
   ]
  },
  {
   "cell_type": "code",
   "execution_count": 53,
   "id": "bfb2c1cb",
   "metadata": {},
   "outputs": [
    {
     "name": "stdout",
     "output_type": "stream",
     "text": [
      "Accuracy Score:  0.8385650224215246\n",
      "Recall Score:  0.7586206896551724\n",
      "Precison Score:  0.8148148148148148\n",
      "F1 Score:  0.7857142857142857\n"
     ]
    }
   ],
   "source": [
    "# Calculating Evaluation Scores.\n",
    "Accuracy = accuracy_score(y_test,log_reg_predict)\n",
    "recall=recall_score(y_test,log_reg_predict)\n",
    "precision=precision_score(y_test,log_reg_predict)\n",
    "f1_score_lr=f1_score(y_test,log_reg_predict)\n",
    "print(\"Accuracy Score: \",Accuracy)\n",
    "print(\"Recall Score: \",recall)\n",
    "print(\"Precison Score: \",precision)\n",
    "print(\"F1 Score: \",f1_score_lr)\n"
   ]
  },
  {
   "cell_type": "code",
   "execution_count": 54,
   "id": "7ccf33a2",
   "metadata": {},
   "outputs": [
    {
     "name": "stdout",
     "output_type": "stream",
     "text": [
      "              precision    recall  f1-score   support\n",
      "\n",
      "           0       0.85      0.89      0.87       136\n",
      "           1       0.81      0.76      0.79        87\n",
      "\n",
      "    accuracy                           0.84       223\n",
      "   macro avg       0.83      0.82      0.83       223\n",
      "weighted avg       0.84      0.84      0.84       223\n",
      "\n"
     ]
    }
   ],
   "source": [
    "# Classification report.\n",
    "cr=classification_report(y_test,log_reg_predict)\n",
    "print(cr)"
   ]
  },
  {
   "cell_type": "code",
   "execution_count": 55,
   "id": "11ac1fa3",
   "metadata": {},
   "outputs": [],
   "source": [
    "# Creating a Evaluation Dataframe that will record all evaluation scores of model implimented.\n",
    "Evaluation_df=pd.DataFrame(columns=['Classifier', 'Accuracy', 'Recall Score', 'Precission','F1-Score'])"
   ]
  },
  {
   "cell_type": "code",
   "execution_count": 56,
   "id": "65a21a68",
   "metadata": {},
   "outputs": [],
   "source": [
    "# Dictionary to record model Evaluation score.\n",
    "logreg_clf_Eval= {'Classifier':'Logestic Regression', 'Accuracy': Accuracy, 'Recall Score': recall , 'Precission': precision,'F1-Score':f1_score_lr}"
   ]
  },
  {
   "cell_type": "code",
   "execution_count": 57,
   "id": "505c3ebd",
   "metadata": {},
   "outputs": [
    {
     "data": {
      "text/plain": [
       "{'Classifier': 'Logestic Regression',\n",
       " 'Accuracy': 0.8385650224215246,\n",
       " 'Recall Score': 0.7586206896551724,\n",
       " 'Precission': 0.8148148148148148,\n",
       " 'F1-Score': 0.7857142857142857}"
      ]
     },
     "execution_count": 57,
     "metadata": {},
     "output_type": "execute_result"
    }
   ],
   "source": [
    "logreg_clf_Eval"
   ]
  },
  {
   "cell_type": "code",
   "execution_count": 58,
   "id": "620b9484",
   "metadata": {},
   "outputs": [
    {
     "data": {
      "text/html": [
       "<div>\n",
       "<style scoped>\n",
       "    .dataframe tbody tr th:only-of-type {\n",
       "        vertical-align: middle;\n",
       "    }\n",
       "\n",
       "    .dataframe tbody tr th {\n",
       "        vertical-align: top;\n",
       "    }\n",
       "\n",
       "    .dataframe thead th {\n",
       "        text-align: right;\n",
       "    }\n",
       "</style>\n",
       "<table border=\"1\" class=\"dataframe\">\n",
       "  <thead>\n",
       "    <tr style=\"text-align: right;\">\n",
       "      <th></th>\n",
       "      <th>Classifier</th>\n",
       "      <th>Accuracy</th>\n",
       "      <th>Recall Score</th>\n",
       "      <th>Precission</th>\n",
       "      <th>F1-Score</th>\n",
       "    </tr>\n",
       "  </thead>\n",
       "  <tbody>\n",
       "    <tr>\n",
       "      <th>0</th>\n",
       "      <td>Logestic Regression</td>\n",
       "      <td>0.838565</td>\n",
       "      <td>0.758621</td>\n",
       "      <td>0.814815</td>\n",
       "      <td>0.785714</td>\n",
       "    </tr>\n",
       "  </tbody>\n",
       "</table>\n",
       "</div>"
      ],
      "text/plain": [
       "            Classifier  Accuracy Recall Score Precission  F1-Score\n",
       "0  Logestic Regression  0.838565     0.758621   0.814815  0.785714"
      ]
     },
     "execution_count": 58,
     "metadata": {},
     "output_type": "execute_result"
    }
   ],
   "source": [
    "# Appending model score in Evaluation Dataframe\n",
    "Evaluation_df=Evaluation_df.append(logreg_clf_Eval,ignore_index= True)\n",
    "Evaluation_df.head()"
   ]
  },
  {
   "cell_type": "markdown",
   "id": "cca13ffe",
   "metadata": {},
   "source": [
    "### 2.2.2 Decission Tree Classifier :"
   ]
  },
  {
   "cell_type": "code",
   "execution_count": 59,
   "id": "cec3d441",
   "metadata": {},
   "outputs": [
    {
     "data": {
      "text/plain": [
       "DecisionTreeClassifier()"
      ]
     },
     "execution_count": 59,
     "metadata": {},
     "output_type": "execute_result"
    }
   ],
   "source": [
    "# Training Decision Tree Classifier Model.\n",
    "dt_clf= DecisionTreeClassifier()\n",
    "dt_clf.fit(X_train, y_train)"
   ]
  },
  {
   "cell_type": "code",
   "execution_count": 60,
   "id": "13435ef4",
   "metadata": {},
   "outputs": [],
   "source": [
    "# Making Prediction.\n",
    "y_pred_dt = dt_clf.predict(X_test)"
   ]
  },
  {
   "cell_type": "code",
   "execution_count": 61,
   "id": "020a3e4c",
   "metadata": {
    "scrolled": true
   },
   "outputs": [
    {
     "data": {
      "text/html": [
       "<div>\n",
       "<style scoped>\n",
       "    .dataframe tbody tr th:only-of-type {\n",
       "        vertical-align: middle;\n",
       "    }\n",
       "\n",
       "    .dataframe tbody tr th {\n",
       "        vertical-align: top;\n",
       "    }\n",
       "\n",
       "    .dataframe thead th {\n",
       "        text-align: right;\n",
       "    }\n",
       "</style>\n",
       "<table border=\"1\" class=\"dataframe\">\n",
       "  <thead>\n",
       "    <tr style=\"text-align: right;\">\n",
       "      <th></th>\n",
       "      <th>Survived</th>\n",
       "      <th>Survivied Prediction</th>\n",
       "    </tr>\n",
       "  </thead>\n",
       "  <tbody>\n",
       "    <tr>\n",
       "      <th>374</th>\n",
       "      <td>0</td>\n",
       "      <td>1</td>\n",
       "    </tr>\n",
       "    <tr>\n",
       "      <th>212</th>\n",
       "      <td>0</td>\n",
       "      <td>0</td>\n",
       "    </tr>\n",
       "    <tr>\n",
       "      <th>259</th>\n",
       "      <td>1</td>\n",
       "      <td>1</td>\n",
       "    </tr>\n",
       "    <tr>\n",
       "      <th>584</th>\n",
       "      <td>0</td>\n",
       "      <td>0</td>\n",
       "    </tr>\n",
       "    <tr>\n",
       "      <th>508</th>\n",
       "      <td>0</td>\n",
       "      <td>0</td>\n",
       "    </tr>\n",
       "    <tr>\n",
       "      <th>264</th>\n",
       "      <td>0</td>\n",
       "      <td>1</td>\n",
       "    </tr>\n",
       "    <tr>\n",
       "      <th>804</th>\n",
       "      <td>1</td>\n",
       "      <td>0</td>\n",
       "    </tr>\n",
       "    <tr>\n",
       "      <th>887</th>\n",
       "      <td>1</td>\n",
       "      <td>1</td>\n",
       "    </tr>\n",
       "    <tr>\n",
       "      <th>410</th>\n",
       "      <td>0</td>\n",
       "      <td>0</td>\n",
       "    </tr>\n",
       "    <tr>\n",
       "      <th>494</th>\n",
       "      <td>0</td>\n",
       "      <td>0</td>\n",
       "    </tr>\n",
       "  </tbody>\n",
       "</table>\n",
       "</div>"
      ],
      "text/plain": [
       "     Survived  Survivied Prediction\n",
       "374         0                     1\n",
       "212         0                     0\n",
       "259         1                     1\n",
       "584         0                     0\n",
       "508         0                     0\n",
       "264         0                     1\n",
       "804         1                     0\n",
       "887         1                     1\n",
       "410         0                     0\n",
       "494         0                     0"
      ]
     },
     "execution_count": 61,
     "metadata": {},
     "output_type": "execute_result"
    }
   ],
   "source": [
    "# Comparring Test value and Predicted values.\n",
    "df1_DT= pd.DataFrame({\"Survived\":y_test,\"Survivied Prediction\":y_pred_dt})\n",
    "df1_DT.head(10)"
   ]
  },
  {
   "cell_type": "code",
   "execution_count": 62,
   "id": "b8042f80",
   "metadata": {},
   "outputs": [
    {
     "name": "stdout",
     "output_type": "stream",
     "text": [
      "Accuracy Score:  0.7713004484304933\n",
      "Recall Score:  0.7471264367816092\n",
      "Precison Score:  0.6914893617021277\n",
      "F1 Score:  0.7182320441988951\n"
     ]
    }
   ],
   "source": [
    "# Calculating Evaluation Scores.\n",
    "Accuracy = accuracy_score(y_test,y_pred_dt)\n",
    "recall=recall_score(y_test,y_pred_dt)\n",
    "precision=precision_score(y_test,y_pred_dt)\n",
    "f1_score_dt= f1_score(y_test,y_pred_dt)\n",
    "print(\"Accuracy Score: \",Accuracy)\n",
    "print(\"Recall Score: \",recall)\n",
    "print(\"Precison Score: \",precision)\n",
    "print(\"F1 Score: \",f1_score_dt)"
   ]
  },
  {
   "cell_type": "code",
   "execution_count": 63,
   "id": "de98bf09",
   "metadata": {
    "scrolled": true
   },
   "outputs": [
    {
     "name": "stdout",
     "output_type": "stream",
     "text": [
      "[[121  15]\n",
      " [ 21  66]]\n"
     ]
    }
   ],
   "source": [
    "# Calculating confusion Matrix\n",
    "cm_dt=confusion_matrix(y_test,y_pred_dt)\n",
    "print(cm)"
   ]
  },
  {
   "cell_type": "code",
   "execution_count": 64,
   "id": "435f3f83",
   "metadata": {},
   "outputs": [
    {
     "data": {
      "image/png": "[encoded data removed]",
      "text/plain": [
       "<Figure size 1080x576 with 2 Axes>"
      ]
     },
     "metadata": {},
     "output_type": "display_data"
    }
   ],
   "source": [
    "# Plot confusion matrix\n",
    "plt.figure(figsize=(15, 8))\n",
    "sns.heatmap(cm_dt, annot=True, fmt='d')\n",
    "plt.title('Decsion Tree Classifier Confusion Matrix')\n",
    "plt.xlabel('Predicted')\n",
    "plt.ylabel('Actual')\n",
    "plt.show()"
   ]
  },
  {
   "cell_type": "code",
   "execution_count": 65,
   "id": "7d55231f",
   "metadata": {
    "scrolled": false
   },
   "outputs": [
    {
     "name": "stdout",
     "output_type": "stream",
     "text": [
      "              precision    recall  f1-score   support\n",
      "\n",
      "           0       0.83      0.79      0.81       136\n",
      "           1       0.69      0.75      0.72        87\n",
      "\n",
      "    accuracy                           0.77       223\n",
      "   macro avg       0.76      0.77      0.76       223\n",
      "weighted avg       0.78      0.77      0.77       223\n",
      "\n"
     ]
    }
   ],
   "source": [
    "# Classification Report:\n",
    "cr_dt=classification_report(y_test,y_pred_dt)\n",
    "print(cr_dt)"
   ]
  },
  {
   "cell_type": "code",
   "execution_count": 66,
   "id": "6db09ea5",
   "metadata": {},
   "outputs": [],
   "source": [
    "# Dictionary to record model Evaluation score.\n",
    "DT_clf_Eval= {'Classifier':'Decision Tree Classifier', 'Accuracy': Accuracy, 'Recall Score': recall , 'Precission': precision,'F1-Score':f1_score_dt}"
   ]
  },
  {
   "cell_type": "code",
   "execution_count": 67,
   "id": "697b6b8c",
   "metadata": {},
   "outputs": [
    {
     "data": {
      "text/html": [
       "<div>\n",
       "<style scoped>\n",
       "    .dataframe tbody tr th:only-of-type {\n",
       "        vertical-align: middle;\n",
       "    }\n",
       "\n",
       "    .dataframe tbody tr th {\n",
       "        vertical-align: top;\n",
       "    }\n",
       "\n",
       "    .dataframe thead th {\n",
       "        text-align: right;\n",
       "    }\n",
       "</style>\n",
       "<table border=\"1\" class=\"dataframe\">\n",
       "  <thead>\n",
       "    <tr style=\"text-align: right;\">\n",
       "      <th></th>\n",
       "      <th>Classifier</th>\n",
       "      <th>Accuracy</th>\n",
       "      <th>Recall Score</th>\n",
       "      <th>Precission</th>\n",
       "      <th>F1-Score</th>\n",
       "    </tr>\n",
       "  </thead>\n",
       "  <tbody>\n",
       "    <tr>\n",
       "      <th>0</th>\n",
       "      <td>Logestic Regression</td>\n",
       "      <td>0.838565</td>\n",
       "      <td>0.758621</td>\n",
       "      <td>0.814815</td>\n",
       "      <td>0.785714</td>\n",
       "    </tr>\n",
       "    <tr>\n",
       "      <th>1</th>\n",
       "      <td>Decision Tree Classifier</td>\n",
       "      <td>0.7713</td>\n",
       "      <td>0.747126</td>\n",
       "      <td>0.691489</td>\n",
       "      <td>0.718232</td>\n",
       "    </tr>\n",
       "  </tbody>\n",
       "</table>\n",
       "</div>"
      ],
      "text/plain": [
       "                 Classifier  Accuracy Recall Score Precission  F1-Score\n",
       "0       Logestic Regression  0.838565     0.758621   0.814815  0.785714\n",
       "1  Decision Tree Classifier    0.7713     0.747126   0.691489  0.718232"
      ]
     },
     "execution_count": 67,
     "metadata": {},
     "output_type": "execute_result"
    }
   ],
   "source": [
    "# Appending Decsion Tree Evaluation Matrix in Evaluation Dataframe\n",
    "Evaluation_df=Evaluation_df.append(DT_clf_Eval,ignore_index= True)\n",
    "Evaluation_df.head()"
   ]
  },
  {
   "cell_type": "markdown",
   "id": "3acf58ff",
   "metadata": {},
   "source": [
    "### 2.2.3 Random Forest Classifier:"
   ]
  },
  {
   "cell_type": "code",
   "execution_count": 68,
   "id": "7bb673b9",
   "metadata": {},
   "outputs": [
    {
     "data": {
      "text/plain": [
       "RandomForestClassifier()"
      ]
     },
     "execution_count": 68,
     "metadata": {},
     "output_type": "execute_result"
    }
   ],
   "source": [
    "# Training Random Forest Classifier Model.\n",
    "clf_rf = RandomForestClassifier(n_estimators=100)\n",
    "clf_rf.fit(X_train, y_train)"
   ]
  },
  {
   "cell_type": "code",
   "execution_count": 69,
   "id": "62fc2919",
   "metadata": {},
   "outputs": [],
   "source": [
    "# Make predictions\n",
    "y_pred_rf = clf_rf.predict(X_test)"
   ]
  },
  {
   "cell_type": "code",
   "execution_count": 70,
   "id": "b259546b",
   "metadata": {},
   "outputs": [
    {
     "data": {
      "text/html": [
       "<div>\n",
       "<style scoped>\n",
       "    .dataframe tbody tr th:only-of-type {\n",
       "        vertical-align: middle;\n",
       "    }\n",
       "\n",
       "    .dataframe tbody tr th {\n",
       "        vertical-align: top;\n",
       "    }\n",
       "\n",
       "    .dataframe thead th {\n",
       "        text-align: right;\n",
       "    }\n",
       "</style>\n",
       "<table border=\"1\" class=\"dataframe\">\n",
       "  <thead>\n",
       "    <tr style=\"text-align: right;\">\n",
       "      <th></th>\n",
       "      <th>Survived</th>\n",
       "      <th>Survivied Prediction</th>\n",
       "    </tr>\n",
       "  </thead>\n",
       "  <tbody>\n",
       "    <tr>\n",
       "      <th>374</th>\n",
       "      <td>0</td>\n",
       "      <td>0</td>\n",
       "    </tr>\n",
       "    <tr>\n",
       "      <th>212</th>\n",
       "      <td>0</td>\n",
       "      <td>0</td>\n",
       "    </tr>\n",
       "    <tr>\n",
       "      <th>259</th>\n",
       "      <td>1</td>\n",
       "      <td>1</td>\n",
       "    </tr>\n",
       "    <tr>\n",
       "      <th>584</th>\n",
       "      <td>0</td>\n",
       "      <td>0</td>\n",
       "    </tr>\n",
       "    <tr>\n",
       "      <th>508</th>\n",
       "      <td>0</td>\n",
       "      <td>0</td>\n",
       "    </tr>\n",
       "    <tr>\n",
       "      <th>264</th>\n",
       "      <td>0</td>\n",
       "      <td>1</td>\n",
       "    </tr>\n",
       "    <tr>\n",
       "      <th>804</th>\n",
       "      <td>1</td>\n",
       "      <td>0</td>\n",
       "    </tr>\n",
       "    <tr>\n",
       "      <th>887</th>\n",
       "      <td>1</td>\n",
       "      <td>1</td>\n",
       "    </tr>\n",
       "    <tr>\n",
       "      <th>410</th>\n",
       "      <td>0</td>\n",
       "      <td>0</td>\n",
       "    </tr>\n",
       "    <tr>\n",
       "      <th>494</th>\n",
       "      <td>0</td>\n",
       "      <td>0</td>\n",
       "    </tr>\n",
       "  </tbody>\n",
       "</table>\n",
       "</div>"
      ],
      "text/plain": [
       "     Survived  Survivied Prediction\n",
       "374         0                     0\n",
       "212         0                     0\n",
       "259         1                     1\n",
       "584         0                     0\n",
       "508         0                     0\n",
       "264         0                     1\n",
       "804         1                     0\n",
       "887         1                     1\n",
       "410         0                     0\n",
       "494         0                     0"
      ]
     },
     "execution_count": 70,
     "metadata": {},
     "output_type": "execute_result"
    }
   ],
   "source": [
    "# Dataframe to compare \n",
    "df1_DT= pd.DataFrame({\"Survived\":y_test,\"Survivied Prediction\":y_pred_rf})\n",
    "df1_DT.head(10)"
   ]
  },
  {
   "cell_type": "code",
   "execution_count": 71,
   "id": "89887a7d",
   "metadata": {},
   "outputs": [
    {
     "name": "stdout",
     "output_type": "stream",
     "text": [
      "Accuracy Score:  0.820627802690583\n",
      "Recall Score:  0.7471264367816092\n",
      "Precison Score:  0.7831325301204819\n",
      "F1 Score:  0.7647058823529411\n"
     ]
    }
   ],
   "source": [
    "# Calculating Evaluation Scores.\n",
    "Accuracy = accuracy_score(y_test,y_pred_rf)\n",
    "recall=recall_score(y_test,y_pred_rf)\n",
    "precision=precision_score(y_test,y_pred_rf)\n",
    "f1_score_rf= f1_score(y_test,y_pred_rf)\n",
    "print(\"Accuracy Score: \",Accuracy)\n",
    "print(\"Recall Score: \",recall)\n",
    "print(\"Precison Score: \",precision)\n",
    "print(\"F1 Score: \",f1_score_rf)"
   ]
  },
  {
   "cell_type": "code",
   "execution_count": 72,
   "id": "e13d6d09",
   "metadata": {},
   "outputs": [
    {
     "name": "stdout",
     "output_type": "stream",
     "text": [
      "[[118  18]\n",
      " [ 22  65]]\n"
     ]
    }
   ],
   "source": [
    "# Calculating confusion Matrix\n",
    "cm_rf=confusion_matrix(y_test,y_pred_rf)\n",
    "print(cm_rf)"
   ]
  },
  {
   "cell_type": "code",
   "execution_count": 73,
   "id": "da7751aa",
   "metadata": {},
   "outputs": [
    {
     "data": {
      "image/png": "[encoded data removed]",
      "text/plain": [
       "<Figure size 1080x576 with 2 Axes>"
      ]
     },
     "metadata": {},
     "output_type": "display_data"
    }
   ],
   "source": [
    "# Plot confusion matrix\n",
    "plt.figure(figsize=(15, 8))\n",
    "sns.heatmap(cm_rf, annot=True, fmt='d')\n",
    "plt.title('Random Forest Classifier Confusion Matrix')\n",
    "plt.xlabel('Predicted')\n",
    "plt.ylabel('Actual')\n",
    "plt.show()"
   ]
  },
  {
   "cell_type": "code",
   "execution_count": 74,
   "id": "7d31c298",
   "metadata": {
    "scrolled": true
   },
   "outputs": [
    {
     "name": "stdout",
     "output_type": "stream",
     "text": [
      "              precision    recall  f1-score   support\n",
      "\n",
      "           0       0.84      0.87      0.86       136\n",
      "           1       0.78      0.75      0.76        87\n",
      "\n",
      "    accuracy                           0.82       223\n",
      "   macro avg       0.81      0.81      0.81       223\n",
      "weighted avg       0.82      0.82      0.82       223\n",
      "\n"
     ]
    }
   ],
   "source": [
    "# Classification Report:\n",
    "cr_rf=classification_report(y_test,y_pred_rf)\n",
    "print(cr_rf)"
   ]
  },
  {
   "cell_type": "code",
   "execution_count": 75,
   "id": "21f25e7f",
   "metadata": {},
   "outputs": [],
   "source": [
    "# Dictionary to record model Evaluation score.\n",
    "RF_clf_Eval= {'Classifier':'Random Forest Classifier', 'Accuracy': Accuracy, 'Recall Score': recall , 'Precission': precision,'F1-Score':f1_score_rf}"
   ]
  },
  {
   "cell_type": "code",
   "execution_count": 76,
   "id": "c4a7f8b5",
   "metadata": {},
   "outputs": [
    {
     "data": {
      "text/html": [
       "<div>\n",
       "<style scoped>\n",
       "    .dataframe tbody tr th:only-of-type {\n",
       "        vertical-align: middle;\n",
       "    }\n",
       "\n",
       "    .dataframe tbody tr th {\n",
       "        vertical-align: top;\n",
       "    }\n",
       "\n",
       "    .dataframe thead th {\n",
       "        text-align: right;\n",
       "    }\n",
       "</style>\n",
       "<table border=\"1\" class=\"dataframe\">\n",
       "  <thead>\n",
       "    <tr style=\"text-align: right;\">\n",
       "      <th></th>\n",
       "      <th>Classifier</th>\n",
       "      <th>Accuracy</th>\n",
       "      <th>Recall Score</th>\n",
       "      <th>Precission</th>\n",
       "      <th>F1-Score</th>\n",
       "    </tr>\n",
       "  </thead>\n",
       "  <tbody>\n",
       "    <tr>\n",
       "      <th>0</th>\n",
       "      <td>Logestic Regression</td>\n",
       "      <td>0.838565</td>\n",
       "      <td>0.758621</td>\n",
       "      <td>0.814815</td>\n",
       "      <td>0.785714</td>\n",
       "    </tr>\n",
       "    <tr>\n",
       "      <th>1</th>\n",
       "      <td>Decision Tree Classifier</td>\n",
       "      <td>0.7713</td>\n",
       "      <td>0.747126</td>\n",
       "      <td>0.691489</td>\n",
       "      <td>0.718232</td>\n",
       "    </tr>\n",
       "    <tr>\n",
       "      <th>2</th>\n",
       "      <td>Random Forest Classifier</td>\n",
       "      <td>0.820628</td>\n",
       "      <td>0.747126</td>\n",
       "      <td>0.783133</td>\n",
       "      <td>0.764706</td>\n",
       "    </tr>\n",
       "  </tbody>\n",
       "</table>\n",
       "</div>"
      ],
      "text/plain": [
       "                 Classifier  Accuracy Recall Score Precission  F1-Score\n",
       "0       Logestic Regression  0.838565     0.758621   0.814815  0.785714\n",
       "1  Decision Tree Classifier    0.7713     0.747126   0.691489  0.718232\n",
       "2  Random Forest Classifier  0.820628     0.747126   0.783133  0.764706"
      ]
     },
     "execution_count": 76,
     "metadata": {},
     "output_type": "execute_result"
    }
   ],
   "source": [
    "# Appending model score in Evaluation Dataframe.\n",
    "Evaluation_df=Evaluation_df.append(RF_clf_Eval,ignore_index= True)\n",
    "Evaluation_df.head()"
   ]
  },
  {
   "cell_type": "markdown",
   "id": "49cfbdb3",
   "metadata": {},
   "source": [
    "### 2.2.4 Gradient Boost Classifier :"
   ]
  },
  {
   "cell_type": "code",
   "execution_count": 77,
   "id": "09227810",
   "metadata": {},
   "outputs": [
    {
     "data": {
      "text/plain": [
       "GradientBoostingClassifier()"
      ]
     },
     "execution_count": 77,
     "metadata": {},
     "output_type": "execute_result"
    }
   ],
   "source": [
    "# Training Gradient Boost Training Model.\n",
    "gb_clf = GradientBoostingClassifier(n_estimators=100)\n",
    "gb_clf.fit(X_train, y_train)"
   ]
  },
  {
   "cell_type": "code",
   "execution_count": 78,
   "id": "0fcd43a8",
   "metadata": {},
   "outputs": [],
   "source": [
    "# Making Prediction.\n",
    "y_pred_gb = gb_clf.predict(X_test)"
   ]
  },
  {
   "cell_type": "code",
   "execution_count": 79,
   "id": "0a15105c",
   "metadata": {},
   "outputs": [
    {
     "data": {
      "text/html": [
       "<div>\n",
       "<style scoped>\n",
       "    .dataframe tbody tr th:only-of-type {\n",
       "        vertical-align: middle;\n",
       "    }\n",
       "\n",
       "    .dataframe tbody tr th {\n",
       "        vertical-align: top;\n",
       "    }\n",
       "\n",
       "    .dataframe thead th {\n",
       "        text-align: right;\n",
       "    }\n",
       "</style>\n",
       "<table border=\"1\" class=\"dataframe\">\n",
       "  <thead>\n",
       "    <tr style=\"text-align: right;\">\n",
       "      <th></th>\n",
       "      <th>Survived</th>\n",
       "      <th>Survivied Prediction</th>\n",
       "    </tr>\n",
       "  </thead>\n",
       "  <tbody>\n",
       "    <tr>\n",
       "      <th>374</th>\n",
       "      <td>0</td>\n",
       "      <td>1</td>\n",
       "    </tr>\n",
       "    <tr>\n",
       "      <th>212</th>\n",
       "      <td>0</td>\n",
       "      <td>0</td>\n",
       "    </tr>\n",
       "    <tr>\n",
       "      <th>259</th>\n",
       "      <td>1</td>\n",
       "      <td>1</td>\n",
       "    </tr>\n",
       "    <tr>\n",
       "      <th>584</th>\n",
       "      <td>0</td>\n",
       "      <td>0</td>\n",
       "    </tr>\n",
       "    <tr>\n",
       "      <th>508</th>\n",
       "      <td>0</td>\n",
       "      <td>0</td>\n",
       "    </tr>\n",
       "    <tr>\n",
       "      <th>264</th>\n",
       "      <td>0</td>\n",
       "      <td>1</td>\n",
       "    </tr>\n",
       "    <tr>\n",
       "      <th>804</th>\n",
       "      <td>1</td>\n",
       "      <td>0</td>\n",
       "    </tr>\n",
       "    <tr>\n",
       "      <th>887</th>\n",
       "      <td>1</td>\n",
       "      <td>1</td>\n",
       "    </tr>\n",
       "    <tr>\n",
       "      <th>410</th>\n",
       "      <td>0</td>\n",
       "      <td>0</td>\n",
       "    </tr>\n",
       "    <tr>\n",
       "      <th>494</th>\n",
       "      <td>0</td>\n",
       "      <td>0</td>\n",
       "    </tr>\n",
       "  </tbody>\n",
       "</table>\n",
       "</div>"
      ],
      "text/plain": [
       "     Survived  Survivied Prediction\n",
       "374         0                     1\n",
       "212         0                     0\n",
       "259         1                     1\n",
       "584         0                     0\n",
       "508         0                     0\n",
       "264         0                     1\n",
       "804         1                     0\n",
       "887         1                     1\n",
       "410         0                     0\n",
       "494         0                     0"
      ]
     },
     "execution_count": 79,
     "metadata": {},
     "output_type": "execute_result"
    }
   ],
   "source": [
    "# Comparring Test value and Predicted values.\n",
    "df1_GB= pd.DataFrame({\"Survived\":y_test,\"Survivied Prediction\":y_pred_gb})\n",
    "df1_GB.head(10)"
   ]
  },
  {
   "cell_type": "code",
   "execution_count": 80,
   "id": "6fdd0c31",
   "metadata": {},
   "outputs": [
    {
     "name": "stdout",
     "output_type": "stream",
     "text": [
      "Accuracy Score:  0.852017937219731\n",
      "Recall Score:  0.7586206896551724\n",
      "Precison Score:  0.8461538461538461\n",
      "F1 Score:  0.8\n"
     ]
    }
   ],
   "source": [
    "# Calculating Evaluation Scores.\n",
    "Accuracy = accuracy_score(y_test,y_pred_gb)\n",
    "recall=recall_score(y_test,y_pred_gb)\n",
    "precision=precision_score(y_test,y_pred_gb)\n",
    "f1_score_gb= f1_score(y_test,y_pred_gb)\n",
    "print(\"Accuracy Score: \",Accuracy)\n",
    "print(\"Recall Score: \",recall)\n",
    "print(\"Precison Score: \",precision)\n",
    "print(\"F1 Score: \",f1_score_gb)"
   ]
  },
  {
   "cell_type": "code",
   "execution_count": 81,
   "id": "3300e5d2",
   "metadata": {},
   "outputs": [
    {
     "name": "stdout",
     "output_type": "stream",
     "text": [
      "[[124  12]\n",
      " [ 21  66]]\n"
     ]
    }
   ],
   "source": [
    "# Calculating confusion Matrix\n",
    "cm_gb=confusion_matrix(y_test,y_pred_gb)\n",
    "print(cm_gb)"
   ]
  },
  {
   "cell_type": "code",
   "execution_count": 82,
   "id": "a20facce",
   "metadata": {},
   "outputs": [
    {
     "data": {
      "image/png": "[encoded data removed]",
      "text/plain": [
       "<Figure size 1080x576 with 2 Axes>"
      ]
     },
     "metadata": {},
     "output_type": "display_data"
    }
   ],
   "source": [
    "# Plot confusion matrix\n",
    "plt.figure(figsize=(15, 8))\n",
    "sns.heatmap(cm_gb, annot=True, fmt='d')\n",
    "plt.title('Random Forest Classifier Confusion Matrix')\n",
    "plt.xlabel('Predicted')\n",
    "plt.ylabel('Actual')\n",
    "plt.show()"
   ]
  },
  {
   "cell_type": "code",
   "execution_count": 83,
   "id": "61b3f19d",
   "metadata": {},
   "outputs": [
    {
     "name": "stdout",
     "output_type": "stream",
     "text": [
      "              precision    recall  f1-score   support\n",
      "\n",
      "           0       0.86      0.91      0.88       136\n",
      "           1       0.85      0.76      0.80        87\n",
      "\n",
      "    accuracy                           0.85       223\n",
      "   macro avg       0.85      0.84      0.84       223\n",
      "weighted avg       0.85      0.85      0.85       223\n",
      "\n"
     ]
    }
   ],
   "source": [
    "# Classification Report:\n",
    "cr_gb=classification_report(y_test,y_pred_gb)\n",
    "print(cr_gb)"
   ]
  },
  {
   "cell_type": "code",
   "execution_count": 84,
   "id": "8c12c941",
   "metadata": {},
   "outputs": [],
   "source": [
    "# Dictionary to record model Evaluation score.\n",
    "GB_clf_Eval= {'Classifier':'Gradient Boost Classifier', 'Accuracy': Accuracy, 'Recall Score': recall , 'Precission': precision,'F1-Score':f1_score_gb}"
   ]
  },
  {
   "cell_type": "code",
   "execution_count": 85,
   "id": "035c53d0",
   "metadata": {},
   "outputs": [
    {
     "data": {
      "text/html": [
       "<div>\n",
       "<style scoped>\n",
       "    .dataframe tbody tr th:only-of-type {\n",
       "        vertical-align: middle;\n",
       "    }\n",
       "\n",
       "    .dataframe tbody tr th {\n",
       "        vertical-align: top;\n",
       "    }\n",
       "\n",
       "    .dataframe thead th {\n",
       "        text-align: right;\n",
       "    }\n",
       "</style>\n",
       "<table border=\"1\" class=\"dataframe\">\n",
       "  <thead>\n",
       "    <tr style=\"text-align: right;\">\n",
       "      <th></th>\n",
       "      <th>Classifier</th>\n",
       "      <th>Accuracy</th>\n",
       "      <th>Recall Score</th>\n",
       "      <th>Precission</th>\n",
       "      <th>F1-Score</th>\n",
       "    </tr>\n",
       "  </thead>\n",
       "  <tbody>\n",
       "    <tr>\n",
       "      <th>0</th>\n",
       "      <td>Logestic Regression</td>\n",
       "      <td>0.838565</td>\n",
       "      <td>0.758621</td>\n",
       "      <td>0.814815</td>\n",
       "      <td>0.785714</td>\n",
       "    </tr>\n",
       "    <tr>\n",
       "      <th>1</th>\n",
       "      <td>Decision Tree Classifier</td>\n",
       "      <td>0.7713</td>\n",
       "      <td>0.747126</td>\n",
       "      <td>0.691489</td>\n",
       "      <td>0.718232</td>\n",
       "    </tr>\n",
       "    <tr>\n",
       "      <th>2</th>\n",
       "      <td>Random Forest Classifier</td>\n",
       "      <td>0.820628</td>\n",
       "      <td>0.747126</td>\n",
       "      <td>0.783133</td>\n",
       "      <td>0.764706</td>\n",
       "    </tr>\n",
       "    <tr>\n",
       "      <th>3</th>\n",
       "      <td>Gradient Boost Classifier</td>\n",
       "      <td>0.852018</td>\n",
       "      <td>0.758621</td>\n",
       "      <td>0.846154</td>\n",
       "      <td>0.8</td>\n",
       "    </tr>\n",
       "  </tbody>\n",
       "</table>\n",
       "</div>"
      ],
      "text/plain": [
       "                  Classifier  Accuracy Recall Score Precission  F1-Score\n",
       "0        Logestic Regression  0.838565     0.758621   0.814815  0.785714\n",
       "1   Decision Tree Classifier    0.7713     0.747126   0.691489  0.718232\n",
       "2   Random Forest Classifier  0.820628     0.747126   0.783133  0.764706\n",
       "3  Gradient Boost Classifier  0.852018     0.758621   0.846154       0.8"
      ]
     },
     "execution_count": 85,
     "metadata": {},
     "output_type": "execute_result"
    }
   ],
   "source": [
    "# Appending model score in Evaluation Dataframe.\n",
    "Evaluation_df=Evaluation_df.append(GB_clf_Eval,ignore_index= True)\n",
    "Evaluation_df.head()"
   ]
  },
  {
   "cell_type": "markdown",
   "id": "448b8bcd",
   "metadata": {},
   "source": [
    "### 2.2.5 Support Vector Machine Classifier : "
   ]
  },
  {
   "cell_type": "code",
   "execution_count": 94,
   "id": "5482f14d",
   "metadata": {},
   "outputs": [
    {
     "data": {
      "text/plain": [
       "SVC()"
      ]
     },
     "execution_count": 94,
     "metadata": {},
     "output_type": "execute_result"
    }
   ],
   "source": [
    "# Training Support Vector Machine Classifier Model.\n",
    "sv_clf= SVC()\n",
    "sv_clf.fit(X_train, y_train)"
   ]
  },
  {
   "cell_type": "code",
   "execution_count": 95,
   "id": "97eeaee4",
   "metadata": {},
   "outputs": [],
   "source": [
    "# Making Prediction.\n",
    "y_pred_svc = sv_clf.predict(X_test)"
   ]
  },
  {
   "cell_type": "code",
   "execution_count": 96,
   "id": "240f4db2",
   "metadata": {},
   "outputs": [
    {
     "data": {
      "text/html": [
       "<div>\n",
       "<style scoped>\n",
       "    .dataframe tbody tr th:only-of-type {\n",
       "        vertical-align: middle;\n",
       "    }\n",
       "\n",
       "    .dataframe tbody tr th {\n",
       "        vertical-align: top;\n",
       "    }\n",
       "\n",
       "    .dataframe thead th {\n",
       "        text-align: right;\n",
       "    }\n",
       "</style>\n",
       "<table border=\"1\" class=\"dataframe\">\n",
       "  <thead>\n",
       "    <tr style=\"text-align: right;\">\n",
       "      <th></th>\n",
       "      <th>Survived</th>\n",
       "      <th>Survivied Prediction</th>\n",
       "    </tr>\n",
       "  </thead>\n",
       "  <tbody>\n",
       "    <tr>\n",
       "      <th>374</th>\n",
       "      <td>0</td>\n",
       "      <td>0</td>\n",
       "    </tr>\n",
       "    <tr>\n",
       "      <th>212</th>\n",
       "      <td>0</td>\n",
       "      <td>0</td>\n",
       "    </tr>\n",
       "    <tr>\n",
       "      <th>259</th>\n",
       "      <td>1</td>\n",
       "      <td>0</td>\n",
       "    </tr>\n",
       "    <tr>\n",
       "      <th>584</th>\n",
       "      <td>0</td>\n",
       "      <td>0</td>\n",
       "    </tr>\n",
       "    <tr>\n",
       "      <th>508</th>\n",
       "      <td>0</td>\n",
       "      <td>0</td>\n",
       "    </tr>\n",
       "    <tr>\n",
       "      <th>264</th>\n",
       "      <td>0</td>\n",
       "      <td>0</td>\n",
       "    </tr>\n",
       "    <tr>\n",
       "      <th>804</th>\n",
       "      <td>1</td>\n",
       "      <td>0</td>\n",
       "    </tr>\n",
       "    <tr>\n",
       "      <th>887</th>\n",
       "      <td>1</td>\n",
       "      <td>0</td>\n",
       "    </tr>\n",
       "    <tr>\n",
       "      <th>410</th>\n",
       "      <td>0</td>\n",
       "      <td>0</td>\n",
       "    </tr>\n",
       "    <tr>\n",
       "      <th>494</th>\n",
       "      <td>0</td>\n",
       "      <td>0</td>\n",
       "    </tr>\n",
       "  </tbody>\n",
       "</table>\n",
       "</div>"
      ],
      "text/plain": [
       "     Survived  Survivied Prediction\n",
       "374         0                     0\n",
       "212         0                     0\n",
       "259         1                     0\n",
       "584         0                     0\n",
       "508         0                     0\n",
       "264         0                     0\n",
       "804         1                     0\n",
       "887         1                     0\n",
       "410         0                     0\n",
       "494         0                     0"
      ]
     },
     "execution_count": 96,
     "metadata": {},
     "output_type": "execute_result"
    }
   ],
   "source": [
    "# Comparring Test value and Predicted values.\n",
    "df1_SVC= pd.DataFrame({\"Survived\":y_test,\"Survivied Prediction\":y_pred_svc})\n",
    "df1_SVC.head(10)"
   ]
  },
  {
   "cell_type": "code",
   "execution_count": 97,
   "id": "f3b53058",
   "metadata": {},
   "outputs": [
    {
     "name": "stdout",
     "output_type": "stream",
     "text": [
      "Accuracy Score:  0.6636771300448431\n",
      "Recall Score:  0.3218390804597701\n",
      "Precison Score:  0.6363636363636364\n",
      "F1 Score:  0.4274809160305344\n"
     ]
    }
   ],
   "source": [
    "# Calculating Evaluation Scores.\n",
    "Accuracy = accuracy_score(y_test,y_pred_svc)\n",
    "recall=recall_score(y_test,y_pred_svc)\n",
    "precision=precision_score(y_test,y_pred_svc)\n",
    "f1_score_svc= f1_score(y_test,y_pred_svc)\n",
    "print(\"Accuracy Score: \",Accuracy)\n",
    "print(\"Recall Score: \",recall)\n",
    "print(\"Precison Score: \",precision)\n",
    "print(\"F1 Score: \",f1_score_svc)"
   ]
  },
  {
   "cell_type": "code",
   "execution_count": 99,
   "id": "e9b376c1",
   "metadata": {},
   "outputs": [
    {
     "name": "stdout",
     "output_type": "stream",
     "text": [
      "[[120  16]\n",
      " [ 59  28]]\n"
     ]
    }
   ],
   "source": [
    "# Calculating confusion Matrix\n",
    "cm_svc=confusion_matrix(y_test,y_pred_svc)\n",
    "print(cm_svc)"
   ]
  },
  {
   "cell_type": "code",
   "execution_count": 100,
   "id": "638c6e38",
   "metadata": {},
   "outputs": [
    {
     "data": {
      "image/png": "[encoded data removed]",
      "text/plain": [
       "<Figure size 1080x576 with 2 Axes>"
      ]
     },
     "metadata": {},
     "output_type": "display_data"
    }
   ],
   "source": [
    "# Plot confusion matrix\n",
    "plt.figure(figsize=(15, 8))\n",
    "sns.heatmap(cm_svc, annot=True, fmt='d')\n",
    "plt.title('Support vector Classifier Confusion Matrix')\n",
    "plt.xlabel('Predicted')\n",
    "plt.ylabel('Actual')\n",
    "plt.show()"
   ]
  },
  {
   "cell_type": "code",
   "execution_count": 101,
   "id": "ab14a313",
   "metadata": {},
   "outputs": [
    {
     "name": "stdout",
     "output_type": "stream",
     "text": [
      "              precision    recall  f1-score   support\n",
      "\n",
      "           0       0.67      0.88      0.76       136\n",
      "           1       0.64      0.32      0.43        87\n",
      "\n",
      "    accuracy                           0.66       223\n",
      "   macro avg       0.65      0.60      0.59       223\n",
      "weighted avg       0.66      0.66      0.63       223\n",
      "\n"
     ]
    }
   ],
   "source": [
    "# Classification Report:\n",
    "cr_svc=classification_report(y_test,y_pred_svc)\n",
    "print(cr_svc)"
   ]
  },
  {
   "cell_type": "code",
   "execution_count": 102,
   "id": "2323ca1e",
   "metadata": {},
   "outputs": [],
   "source": [
    "# Dictionary to record model Evaluation score.\n",
    "RF_clf_Eval= {'Classifier':'Support vector Machine Classifier', 'Accuracy': Accuracy, 'Recall Score': recall , 'Precission': precision,'F1-Score':f1_score_svc}"
   ]
  },
  {
   "cell_type": "code",
   "execution_count": 104,
   "id": "2b04b3bc",
   "metadata": {},
   "outputs": [
    {
     "data": {
      "text/html": [
       "<div>\n",
       "<style scoped>\n",
       "    .dataframe tbody tr th:only-of-type {\n",
       "        vertical-align: middle;\n",
       "    }\n",
       "\n",
       "    .dataframe tbody tr th {\n",
       "        vertical-align: top;\n",
       "    }\n",
       "\n",
       "    .dataframe thead th {\n",
       "        text-align: right;\n",
       "    }\n",
       "</style>\n",
       "<table border=\"1\" class=\"dataframe\">\n",
       "  <thead>\n",
       "    <tr style=\"text-align: right;\">\n",
       "      <th></th>\n",
       "      <th>Classifier</th>\n",
       "      <th>Accuracy</th>\n",
       "      <th>Recall Score</th>\n",
       "      <th>Precission</th>\n",
       "      <th>F1-Score</th>\n",
       "    </tr>\n",
       "  </thead>\n",
       "  <tbody>\n",
       "    <tr>\n",
       "      <th>0</th>\n",
       "      <td>Logestic Regression</td>\n",
       "      <td>0.838565</td>\n",
       "      <td>0.758621</td>\n",
       "      <td>0.814815</td>\n",
       "      <td>0.785714</td>\n",
       "    </tr>\n",
       "    <tr>\n",
       "      <th>1</th>\n",
       "      <td>Decision Tree Classifier</td>\n",
       "      <td>0.7713</td>\n",
       "      <td>0.747126</td>\n",
       "      <td>0.691489</td>\n",
       "      <td>0.718232</td>\n",
       "    </tr>\n",
       "    <tr>\n",
       "      <th>2</th>\n",
       "      <td>Random Forest Classifier</td>\n",
       "      <td>0.820628</td>\n",
       "      <td>0.747126</td>\n",
       "      <td>0.783133</td>\n",
       "      <td>0.764706</td>\n",
       "    </tr>\n",
       "    <tr>\n",
       "      <th>3</th>\n",
       "      <td>Gradient Boost Classifier</td>\n",
       "      <td>0.852018</td>\n",
       "      <td>0.758621</td>\n",
       "      <td>0.846154</td>\n",
       "      <td>0.8</td>\n",
       "    </tr>\n",
       "    <tr>\n",
       "      <th>4</th>\n",
       "      <td>Support vector Machine Classifier</td>\n",
       "      <td>0.663677</td>\n",
       "      <td>0.321839</td>\n",
       "      <td>0.636364</td>\n",
       "      <td>0.427481</td>\n",
       "    </tr>\n",
       "  </tbody>\n",
       "</table>\n",
       "</div>"
      ],
      "text/plain": [
       "                          Classifier  Accuracy Recall Score Precission  \\\n",
       "0                Logestic Regression  0.838565     0.758621   0.814815   \n",
       "1           Decision Tree Classifier    0.7713     0.747126   0.691489   \n",
       "2           Random Forest Classifier  0.820628     0.747126   0.783133   \n",
       "3          Gradient Boost Classifier  0.852018     0.758621   0.846154   \n",
       "4  Support vector Machine Classifier  0.663677     0.321839   0.636364   \n",
       "\n",
       "   F1-Score  \n",
       "0  0.785714  \n",
       "1  0.718232  \n",
       "2  0.764706  \n",
       "3       0.8  \n",
       "4  0.427481  "
      ]
     },
     "execution_count": 104,
     "metadata": {},
     "output_type": "execute_result"
    }
   ],
   "source": [
    "# Appending model score in Evaluation Dataframe.\n",
    "Evaluation_df=Evaluation_df.append(RF_clf_Eval,ignore_index= True)\n",
    "Evaluation_df.head()"
   ]
  },
  {
   "cell_type": "markdown",
   "id": "b23738c9",
   "metadata": {},
   "source": [
    "## 3. Model Evaluation and Selction : "
   ]
  },
  {
   "cell_type": "markdown",
   "id": "b3a2212b",
   "metadata": {},
   "source": [
    "After training multiple machine learning models, we evaluated their performance using accuracy, recall, precision, and F1-Score. The results are as follows:\n",
    "\n",
    "| Classifier                    | Accuracy | Recall Score | Precision | F1-Score |\n",
    "|-------------------------------|----------|--------------|-----------|----------|\n",
    "| Logistic Regression           | 0.838565 | 0.758621     | 0.814815  | 0.785714 |\n",
    "| Decision Tree Classifier      | 0.771300 | 0.747126     | 0.691489  | 0.718232 |\n",
    "| Random Forest Classifier      | 0.820628 | 0.747126     | 0.783133  | 0.764706 |\n",
    "| Gradient Boost Classifier     | 0.852018 | 0.758621     | 0.846154  | 0.800000 |\n",
    "| Support Vector Machine Classifier | 0.663677 | 0.321839     | 0.636364  | 0.427481 |\n",
    "\n",
    "\n",
    "### Best Model: Gradient Boost Classifier\n",
    "\n",
    "The Gradient Boost Classifier emerged as the best model based on the following reasons:\n",
    "- **Accuracy**: Highest at 0.852018.\n",
    "- **Precision**: Highest at 0.846154.\n",
    "- **Recall**: Tied for the highest at 0.758621.\n",
    "- **F1-Score**: Highest at 0.800000.\n",
    "\n",
    "\n",
    "### Detailed Analysis :\n",
    "- **Logistic Regression :** Although it achieves high accuracy (0.838565) and a respectable F1-Score (0.785714), it slightly lags behind the Gradient Boost Classifier in terms of precision and the overall balance between precision and recall.\n",
    "- **Decision Tree Classifier :** This model has the lowest accuracy among the leading models (0.771300), with reduced precision (0.691489) and a lower F1-Score (0.718232), suggesting it is less reliable compared to the Gradient Boost and Logistic Regression models.\n",
    "- **Random Forest Classifier :** Achieving an accuracy of 0.820628 and an F1-Score of 0.764706, this model performs quite well but does not exceed the Gradient Boost Classifier in terms of overall performance metrics.\n",
    "- **Support Vector Machine Classifier :** This model has the lowest accuracy (0.663677) and F1-Score (0.427481) among all, indicating it's not well-suited for this particular task with the given dataset.\n",
    "\n",
    "\n",
    "**These metrics indicate that the Gradient Boost Classifier provides the best balance between identifying true positives and minimizing false positives, making it the most reliable model for predicting Titanic passenger survival.**\n"
   ]
  },
  {
   "cell_type": "markdown",
   "id": "fdb7c78a",
   "metadata": {},
   "source": [
    "## 4. Conclusion :\n",
    "\n",
    "**In this project, we successfully developed and assessed various machine learning models to predict Titanic passenger survival. The Gradient Boost Classifier was chosen as the best model due to its exceptional performance across several evaluation metrics.**\n",
    "\n",
    "Potential future improvements could include:\n",
    "- Investigating further feature engineering approaches to enhance model performance.\n",
    "- Optimizing hyperparameters for the Gradient Boosting Classifier to achieve better results.\n",
    "- Evaluating other sophisticated algorithms and ensemble methods to compare performance.\n",
    "- Exploring dimensionality reduction methods to potentially improve model efficiency and reduce overfitting."
   ]
  }
 ],
 "metadata": {
  "kernelspec": {
   "display_name": "Python 3 (ipykernel)",
   "language": "python",
   "name": "python3"
  },
  "language_info": {
   "codemirror_mode": {
    "name": "ipython",
    "version": 3
   },
   "file_extension": ".py",
   "mimetype": "text/x-python",
   "name": "python",
   "nbconvert_exporter": "python",
   "pygments_lexer": "ipython3",
   "version": "3.9.12"
  }
 },
 "nbformat": 4,
 "nbformat_minor": 5
}
